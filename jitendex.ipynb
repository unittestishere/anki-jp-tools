{
 "cells": [
  {
   "cell_type": "code",
   "execution_count": 503,
   "metadata": {},
   "outputs": [],
   "source": [
    "import os\n",
    "import json\n",
    "from collections import defaultdict"
   ]
  },
  {
   "cell_type": "code",
   "execution_count": 396,
   "metadata": {},
   "outputs": [],
   "source": [
    "JITENDEX_PATH = \"/nav/jitendex-yomitan/\""
   ]
  },
  {
   "cell_type": "code",
   "execution_count": 506,
   "metadata": {},
   "outputs": [],
   "source": [
    "def load_entire_dict():\n",
    "    results = []\n",
    "    cached_ranges = defaultdict(list)\n",
    "    for filename in os.listdir(JITENDEX_PATH):\n",
    "        if filename.endswith('.json') and \"term_bank\" in filename:\n",
    "            filepath = os.path.join(JITENDEX_PATH, filename)\n",
    "            with open(filepath, 'r', encoding='utf-8') as file:\n",
    "                data = json.load(file)\n",
    "                start_index = len(results)\n",
    "\n",
    "                results.extend(data)\n",
    "\n",
    "                end_index = len(results)\n",
    "                cached_ranges[filename] = [start_index, end_index]\n",
    "    return results, cached_ranges\n",
    "\n",
    "data, cached_ranges = load_entire_dict()"
   ]
  },
  {
   "cell_type": "code",
   "execution_count": null,
   "metadata": {},
   "outputs": [
    {
     "data": {
      "text/plain": [
       "(299921, 150)"
      ]
     },
     "execution_count": 508,
     "metadata": {},
     "output_type": "execute_result"
    }
   ],
   "source": [
    "# loading entire dictionary takes 20 seconds, could \n",
    "len(data), len(cached_ranges)"
   ]
  },
  {
   "cell_type": "code",
   "execution_count": null,
   "metadata": {},
   "outputs": [],
   "source": [
    "import functools\n",
    "\n",
    "def kana_comparator(word1, word2):\n",
    "    # Normalize katakana to hiragana\n",
    "    def normalize(word):\n",
    "        return ''.join(\n",
    "            chr(ord(char) - 0x60) if 'ァ' <= char <= 'ン' else char\n",
    "            for char in word\n",
    "        )\n",
    "    word1 = normalize(word1)\n",
    "    word2 = normalize(word2)\n",
    "    return (word1 > word2) - (word1 < word2)\n",
    "\n",
    "def word_comparator(word_data1, word_data2):\n",
    "    word1 = word_data1[1]\n",
    "    word2 = word_data2[1]\n",
    "    # Normalize katakana to hiragana\n",
    "    def normalize(word):\n",
    "        return ''.join(\n",
    "            chr(ord(char) - 0x60) if 'ァ' <= char <= 'ン' else char\n",
    "            for char in word\n",
    "        )\n",
    "    word1 = normalize(word1)\n",
    "    word2 = normalize(word2)\n",
    "    return (word1 > word2) - (word1 < word2)"
   ]
  },
  {
   "cell_type": "code",
   "execution_count": 681,
   "metadata": {},
   "outputs": [
    {
     "name": "stdout",
     "output_type": "stream",
     "text": [
      "CPU times: total: 12.2 s\n",
      "Wall time: 12.2 s\n"
     ]
    },
    {
     "data": {
      "text/plain": [
       "299921"
      ]
     },
     "execution_count": 681,
     "metadata": {},
     "output_type": "execute_result"
    }
   ],
   "source": [
    "%%time\n",
    "import functools\n",
    "sorted_dataset = sorted(data, key=functools.cmp_to_key(word_comparator))\n",
    "len(sorted_dataset)"
   ]
  },
  {
   "cell_type": "code",
   "execution_count": 682,
   "metadata": {},
   "outputs": [
    {
     "data": {
      "text/plain": [
       "['秩序',\n",
       " 'ちつじょ',\n",
       " '★',\n",
       " '',\n",
       " 200,\n",
       " [{'type': 'structured-content',\n",
       "   'content': [{'tag': 'div',\n",
       "     'content': [{'tag': 'span',\n",
       "       'title': 'noun (common) (futsuumeishi)',\n",
       "       'style': {'fontSize': '0.8em',\n",
       "        'fontWeight': 'bold',\n",
       "        'padding': '0.2em 0.3em',\n",
       "        'wordBreak': 'keep-all',\n",
       "        'borderRadius': '0.3em',\n",
       "        'verticalAlign': 'text-bottom',\n",
       "        'backgroundColor': '#565656',\n",
       "        'color': 'white',\n",
       "        'cursor': 'help',\n",
       "        'marginRight': '0.25em'},\n",
       "       'data': {'code': 'n'},\n",
       "       'content': 'noun'},\n",
       "      {'tag': 'div',\n",
       "       'content': [{'tag': 'ul',\n",
       "         'data': {'content': 'glossary'},\n",
       "         'content': [{'tag': 'li', 'content': 'order'},\n",
       "          {'tag': 'li', 'content': 'discipline'},\n",
       "          {'tag': 'li', 'content': 'regularity'},\n",
       "          {'tag': 'li', 'content': 'system'},\n",
       "          {'tag': 'li', 'content': 'method'}]},\n",
       "        {'tag': 'div',\n",
       "         'style': {'marginLeft': '0.5em'},\n",
       "         'data': {'content': 'extra-info'},\n",
       "         'content': {'tag': 'div',\n",
       "          'content': {'tag': 'div',\n",
       "           'style': {'borderStyle': 'none none none solid',\n",
       "            'padding': '0.5rem',\n",
       "            'borderRadius': '0.4rem',\n",
       "            'borderWidth': 'calc(3em / var(--font-size-no-units, 14))',\n",
       "            'marginTop': '0.5rem',\n",
       "            'marginBottom': '0.5rem',\n",
       "            'borderColor': 'var(--text-color, var(--fg, #333))',\n",
       "            'backgroundColor': 'color-mix(in srgb, var(--text-color, var(--fg, #333)) 5%, transparent)'},\n",
       "           'data': {'content': 'example-sentence',\n",
       "            'sentence-key': '秩序',\n",
       "            'source': '149997',\n",
       "            'source-type': 'tat'},\n",
       "           'content': [{'tag': 'div',\n",
       "             'style': {'fontSize': '1.3em'},\n",
       "             'data': {'content': 'example-sentence-a'},\n",
       "             'content': [{'tag': 'ruby',\n",
       "               'content': ['自', {'tag': 'rt', 'content': 'じ'}]},\n",
       "              {'tag': 'ruby',\n",
       "               'content': ['分', {'tag': 'rt', 'content': 'ぶん'}]},\n",
       "              'が',\n",
       "              {'tag': 'ruby',\n",
       "               'content': ['集', {'tag': 'rt', 'content': 'あつ'}]},\n",
       "              'めた',\n",
       "              {'tag': 'ruby', 'content': ['事', {'tag': 'rt', 'content': 'じ'}]},\n",
       "              {'tag': 'ruby',\n",
       "               'content': ['実', {'tag': 'rt', 'content': 'じつ'}]},\n",
       "              'をもとにして、',\n",
       "              {'tag': 'ruby', 'content': ['科', {'tag': 'rt', 'content': 'か'}]},\n",
       "              {'tag': 'ruby',\n",
       "               'content': ['学', {'tag': 'rt', 'content': 'がく'}]},\n",
       "              {'tag': 'ruby',\n",
       "               'content': ['者', {'tag': 'rt', 'content': 'しゃ'}]},\n",
       "              'は、その',\n",
       "              {'tag': 'ruby', 'content': ['事', {'tag': 'rt', 'content': 'じ'}]},\n",
       "              {'tag': 'ruby',\n",
       "               'content': ['実', {'tag': 'rt', 'content': 'じつ'}]},\n",
       "              'に',\n",
       "              {'tag': 'ruby', 'content': ['意', {'tag': 'rt', 'content': 'い'}]},\n",
       "              {'tag': 'ruby', 'content': ['味', {'tag': 'rt', 'content': 'み'}]},\n",
       "              'と',\n",
       "              {'tag': 'span',\n",
       "               'style': {'color': 'color-mix(in srgb, lime, var(--text-color, var(--fg, #333)))'},\n",
       "               'data': {'content': 'example-keyword'},\n",
       "               'content': [{'tag': 'ruby',\n",
       "                 'content': ['秩', {'tag': 'rt', 'content': 'ちつ'}]},\n",
       "                {'tag': 'ruby',\n",
       "                 'content': ['序', {'tag': 'rt', 'content': 'じょ'}]}]},\n",
       "              'と',\n",
       "              {'tag': 'ruby', 'content': ['価', {'tag': 'rt', 'content': 'か'}]},\n",
       "              {'tag': 'ruby', 'content': ['値', {'tag': 'rt', 'content': 'ち'}]},\n",
       "              'を',\n",
       "              {'tag': 'ruby',\n",
       "               'content': ['与', {'tag': 'rt', 'content': 'あた'}]},\n",
       "              'える',\n",
       "              {'tag': 'ruby',\n",
       "               'content': ['論', {'tag': 'rt', 'content': 'ろん'}]},\n",
       "              {'tag': 'ruby', 'content': ['理', {'tag': 'rt', 'content': 'り'}]},\n",
       "              'の',\n",
       "              {'tag': 'ruby', 'content': ['模', {'tag': 'rt', 'content': 'も'}]},\n",
       "              {'tag': 'ruby',\n",
       "               'content': ['様', {'tag': 'rt', 'content': 'よう'}]},\n",
       "              'すなわち',\n",
       "              {'tag': 'ruby', 'content': ['理', {'tag': 'rt', 'content': 'り'}]},\n",
       "              {'tag': 'ruby',\n",
       "               'content': ['論', {'tag': 'rt', 'content': 'ろん'}]},\n",
       "              'を',\n",
       "              {'tag': 'ruby', 'content': ['織', {'tag': 'rt', 'content': 'お'}]},\n",
       "              'りあげるのである。']},\n",
       "            {'tag': 'div',\n",
       "             'style': {'fontSize': '0.8em'},\n",
       "             'data': {'content': 'example-sentence-b'},\n",
       "             'content': 'Around his facts the scientist weaves a logical pattern or theory which gives the facts meaning, order, and significance.'}]}}}]}]},\n",
       "    {'tag': 'div',\n",
       "     'style': {'fontSize': '0.7em', 'textAlign': 'right'},\n",
       "     'data': {'content': 'attribution'},\n",
       "     'content': [{'tag': 'a',\n",
       "       'href': 'https://www.edrdg.org/jmwsgi/entr.py?svc=jmdict&q=1422520',\n",
       "       'content': 'JMdict'},\n",
       "      ' | ',\n",
       "      {'tag': 'a',\n",
       "       'href': 'https://tatoeba.org/en/sentences/show/149997',\n",
       "       'content': 'Tatoeba'}]}]}],\n",
       " 1422520,\n",
       " '']"
      ]
     },
     "execution_count": 682,
     "metadata": {},
     "output_type": "execute_result"
    }
   ],
   "source": [
    "# ちっ -> 175000\n",
    "# ちつじょ -> 175071\n",
    "# so small ones are before\n",
    "sorted_dataset[175071]"
   ]
  },
  {
   "cell_type": "code",
   "execution_count": 679,
   "metadata": {},
   "outputs": [],
   "source": [
    "# maybe need to cache the yomigana for start and end of each\n",
    "# can make a class to convert yomigana to a number tuple \n",
    "# and compare to words\n",
    "# this isn't needed right now since loading entire dict only takes 20 seconds\n",
    "\n",
    "# NO, do not need the file specific indexes because \n",
    "# 1024 < 2000 < 2048 -> 11\n",
    "# 128 < 150 < 256 -> 8\n",
    "# 11 + 8 == 19\n",
    "# 262,144 < 300,000 < 524,288 == 19\n",
    "# It's the same amount of depth, so it would be overhead to do so\n",
    "\n",
    "# doesn't matter anyways since it's NOT sorted\n",
    "# cached_ranges, "
   ]
  },
  {
   "cell_type": "code",
   "execution_count": 399,
   "metadata": {},
   "outputs": [
    {
     "data": {
      "text/plain": [
       "8"
      ]
     },
     "execution_count": 399,
     "metadata": {},
     "output_type": "execute_result"
    }
   ],
   "source": [
    "# some arbitrary index\n",
    "# 500 お得 (3,3,2)\n",
    "# 1290 そうだ (2,2)\n",
    "ARB_IND = 500\n",
    "len(data[ARB_IND])"
   ]
  },
  {
   "cell_type": "code",
   "execution_count": 369,
   "metadata": {},
   "outputs": [
    {
     "name": "stdout",
     "output_type": "stream",
     "text": [
      "お得 -> word\n",
      "おとく -> yomigana\n",
      " -> tag\n",
      " -> ???\n",
      "0 -> ???\n",
      "[{'type': 'structured-content', 'content': [{'tag': 'div', 'content': [{'tag': 'span', 'title': 'adjectival nouns or quasi-adjectives (keiyodoshi)', 'style': {'fontSize': '0.8em', 'fontWeight': 'bold', 'padding': '0.2em 0.3em', 'wordBreak': 'keep-all', 'borderRadius': '0.3em', 'verticalAlign': 'text-bottom', 'backgroundColor': '#565656', 'color': 'white', 'cursor': 'help', 'marginRight': '0.25em'}, 'data': {'code': 'adj-na'}, 'content': 'na-adj'}, {'tag': 'span', 'title': \"nouns which may take the genitive case particle 'no'\", 'style': {'fontSize': '0.8em', 'fontWeight': 'bold', 'padding': '0.2em 0.3em', 'wordBreak': 'keep-all', 'borderRadius': '0.3em', 'verticalAlign': 'text-bottom', 'backgroundColor': '#565656', 'color': 'white', 'cursor': 'help', 'marginRight': '0.25em'}, 'data': {'code': 'adj-no'}, 'content': 'no-adj'}, {'tag': 'div', 'content': [{'tag': 'ul', 'data': {'content': 'glossary'}, 'content': [{'tag': 'li', 'content': 'bargain'}, {'tag': 'li', 'content': 'good-value'}, {'tag': 'li', 'content': 'economical'}]}, {'tag': 'div', 'style': {'marginLeft': '0.5em'}, 'data': {'content': 'extra-info'}, 'content': {'tag': 'div', 'content': {'tag': 'div', 'style': {'borderStyle': 'none none none solid', 'padding': '0.5rem', 'borderRadius': '0.4rem', 'borderWidth': 'calc(3em / var(--font-size-no-units, 14))', 'marginTop': '0.5rem', 'marginBottom': '0.5rem', 'borderColor': 'var(--text-color, var(--fg, #333))', 'backgroundColor': 'color-mix(in srgb, var(--text-color, var(--fg, #333)) 5%, transparent)'}, 'data': {'content': 'example-sentence', 'sentence-key': 'お得', 'source': '121485', 'source-type': 'tat'}, 'content': [{'tag': 'div', 'style': {'fontSize': '1.3em'}, 'data': {'content': 'example-sentence-a'}, 'content': [{'tag': 'ruby', 'content': ['買', {'tag': 'rt', 'content': 'か'}]}, 'い', {'tag': 'ruby', 'content': ['替', {'tag': 'rt', 'content': 'か'}]}, 'えた', {'tag': 'ruby', 'content': ['方', {'tag': 'rt', 'content': 'ほう'}]}, 'が', {'tag': 'span', 'style': {'color': 'color-mix(in srgb, lime, var(--text-color, var(--fg, #333)))'}, 'data': {'content': 'example-keyword'}, 'content': ['お', {'tag': 'ruby', 'content': ['得', {'tag': 'rt', 'content': 'とく'}]}]}, 'ですよ。']}, {'tag': 'div', 'style': {'fontSize': '0.8em'}, 'data': {'content': 'example-sentence-b'}, 'content': 'You will be better off buying a new one than trying to fix it.'}]}}}]}]}, {'tag': 'div', 'style': {'marginTop': '0.5rem'}, 'data': {'content': 'forms'}, 'content': [{'tag': 'span', 'title': 'spelling and reading variants', 'style': {'fontSize': '0.8em', 'fontWeight': 'bold', 'padding': '0.2em 0.3em', 'wordBreak': 'keep-all', 'borderRadius': '0.3em', 'verticalAlign': 'text-bottom', 'backgroundColor': '#565656', 'color': 'white', 'cursor': 'help', 'marginRight': '0.25em'}, 'content': 'forms'}, {'tag': 'div', 'style': {'marginTop': '0.2em'}, 'content': {'tag': 'table', 'content': [{'tag': 'tr', 'content': [{'tag': 'th'}, {'tag': 'th', 'style': {'fontSize': '1.2em', 'textAlign': 'center', 'fontWeight': 'normal'}, 'content': 'お得'}, {'tag': 'th', 'style': {'fontSize': '1.2em', 'textAlign': 'center', 'fontWeight': 'normal'}, 'content': 'お徳'}, {'tag': 'th', 'style': {'fontSize': '1.2em', 'textAlign': 'center', 'fontWeight': 'normal'}, 'content': {'tag': 'span', 'title': 'no associated kanji forms', 'style': {'color': 'crimson', 'cursor': 'help'}, 'content': '∅'}}]}, {'tag': 'tr', 'content': [{'tag': 'th', 'style': {'fontWeight': 'normal'}, 'content': 'おとく'}, {'tag': 'td', 'style': {'textAlign': 'center'}, 'content': {'tag': 'div', 'title': 'valid form/reading combination', 'style': {'cursor': 'help', 'padding': '0 0.5em', 'color': 'var(--background-color, var(--canvas, #f8f9fa))', 'background': 'radial-gradient(var(--text-color, var(--fg, #333)) 50%, white 100%)', 'clipPath': 'circle()', 'fontWeight': 'bold'}, 'content': '◇'}}, {'tag': 'td', 'style': {'textAlign': 'center'}, 'content': {'tag': 'div', 'title': 'rarely used form', 'style': {'cursor': 'help', 'padding': '0 0.5em', 'color': 'white', 'background': 'radial-gradient(purple 50%, white 100%)', 'clipPath': 'circle()', 'fontWeight': 'bold'}, 'content': '▽'}}, {'tag': 'td'}]}, {'tag': 'tr', 'content': [{'tag': 'th', 'style': {'fontWeight': 'normal'}, 'content': 'おトク'}, {'tag': 'td'}, {'tag': 'td'}, {'tag': 'td', 'style': {'textAlign': 'center'}, 'content': {'tag': 'div', 'title': 'valid form/reading combination', 'style': {'cursor': 'help', 'padding': '0 0.5em', 'color': 'var(--background-color, var(--canvas, #f8f9fa))', 'background': 'radial-gradient(var(--text-color, var(--fg, #333)) 50%, white 100%)', 'clipPath': 'circle()', 'fontWeight': 'bold'}, 'content': '◇'}}]}]}}]}, {'tag': 'div', 'style': {'fontSize': '0.7em', 'textAlign': 'right'}, 'data': {'content': 'attribution'}, 'content': [{'tag': 'a', 'href': 'https://www.edrdg.org/jmwsgi/entr.py?svc=jmdict&q=1002520', 'content': 'JMdict'}, ' | ', {'tag': 'a', 'href': 'https://tatoeba.org/en/sentences/show/121485', 'content': 'Tatoeba'}]}]}] -> structured content\n",
      "1002520 -> ???\n",
      " -> ???\n"
     ]
    }
   ],
   "source": [
    "print(data[ARB_IND][0], \"->\", \"word\")\n",
    "print(data[ARB_IND][1], \"->\", \"yomigana\")\n",
    "print(data[ARB_IND][2], \"->\", \"tag\")\n",
    "print(data[ARB_IND][3], \"->\", \"???\")\n",
    "print(data[ARB_IND][4], \"->\", \"???\")\n",
    "print(data[ARB_IND][5], \"->\", \"structured content\")\n",
    "print(data[ARB_IND][6], \"->\", \"???\")\n",
    "print(data[ARB_IND][7], \"->\", \"???\")\n"
   ]
  },
  {
   "cell_type": "code",
   "execution_count": 370,
   "metadata": {},
   "outputs": [
    {
     "name": "stdout",
     "output_type": "stream",
     "text": [
      "dict_keys(['type', 'content'])\n",
      "structured-content\n",
      "<class 'list'>\n",
      "3\n",
      "<class 'dict'>\n",
      "dict_keys(['tag', 'content'])\n",
      "div\n",
      "[{'tag': 'span', 'title': 'adjectival nouns or quasi-adjectives (keiyodoshi)', 'style': {'fontSize': '0.8em', 'fontWeight': 'bold', 'padding': '0.2em 0.3em', 'wordBreak': 'keep-all', 'borderRadius': '0.3em', 'verticalAlign': 'text-bottom', 'backgroundColor': '#565656', 'color': 'white', 'cursor': 'help', 'marginRight': '0.25em'}, 'data': {'code': 'adj-na'}, 'content': 'na-adj'}, {'tag': 'span', 'title': \"nouns which may take the genitive case particle 'no'\", 'style': {'fontSize': '0.8em', 'fontWeight': 'bold', 'padding': '0.2em 0.3em', 'wordBreak': 'keep-all', 'borderRadius': '0.3em', 'verticalAlign': 'text-bottom', 'backgroundColor': '#565656', 'color': 'white', 'cursor': 'help', 'marginRight': '0.25em'}, 'data': {'code': 'adj-no'}, 'content': 'no-adj'}, {'tag': 'div', 'content': [{'tag': 'ul', 'data': {'content': 'glossary'}, 'content': [{'tag': 'li', 'content': 'bargain'}, {'tag': 'li', 'content': 'good-value'}, {'tag': 'li', 'content': 'economical'}]}, {'tag': 'div', 'style': {'marginLeft': '0.5em'}, 'data': {'content': 'extra-info'}, 'content': {'tag': 'div', 'content': {'tag': 'div', 'style': {'borderStyle': 'none none none solid', 'padding': '0.5rem', 'borderRadius': '0.4rem', 'borderWidth': 'calc(3em / var(--font-size-no-units, 14))', 'marginTop': '0.5rem', 'marginBottom': '0.5rem', 'borderColor': 'var(--text-color, var(--fg, #333))', 'backgroundColor': 'color-mix(in srgb, var(--text-color, var(--fg, #333)) 5%, transparent)'}, 'data': {'content': 'example-sentence', 'sentence-key': 'お得', 'source': '121485', 'source-type': 'tat'}, 'content': [{'tag': 'div', 'style': {'fontSize': '1.3em'}, 'data': {'content': 'example-sentence-a'}, 'content': [{'tag': 'ruby', 'content': ['買', {'tag': 'rt', 'content': 'か'}]}, 'い', {'tag': 'ruby', 'content': ['替', {'tag': 'rt', 'content': 'か'}]}, 'えた', {'tag': 'ruby', 'content': ['方', {'tag': 'rt', 'content': 'ほう'}]}, 'が', {'tag': 'span', 'style': {'color': 'color-mix(in srgb, lime, var(--text-color, var(--fg, #333)))'}, 'data': {'content': 'example-keyword'}, 'content': ['お', {'tag': 'ruby', 'content': ['得', {'tag': 'rt', 'content': 'とく'}]}]}, 'ですよ。']}, {'tag': 'div', 'style': {'fontSize': '0.8em'}, 'data': {'content': 'example-sentence-b'}, 'content': 'You will be better off buying a new one than trying to fix it.'}]}}}]}]\n",
      "3\n",
      "\n",
      " 0th item\n",
      "<class 'dict'>\n",
      "dict_keys(['tag', 'title', 'style', 'data', 'content'])\n",
      "\n",
      " 1st item:\n",
      "<class 'dict'>\n",
      "dict_keys(['tag', 'title', 'style', 'data', 'content'])\n",
      "<class 'str'>\n",
      "\n",
      " 2nd item:\n",
      "<class 'dict'>\n",
      "dict_keys(['tag', 'content'])\n",
      "2\n",
      "{'tag': 'ul', 'data': {'content': 'glossary'}, 'content': [{'tag': 'li', 'content': 'bargain'}, {'tag': 'li', 'content': 'good-value'}, {'tag': 'li', 'content': 'economical'}]}\n",
      "{'tag': 'div', 'style': {'marginLeft': '0.5em'}, 'data': {'content': 'extra-info'}, 'content': {'tag': 'div', 'content': {'tag': 'div', 'style': {'borderStyle': 'none none none solid', 'padding': '0.5rem', 'borderRadius': '0.4rem', 'borderWidth': 'calc(3em / var(--font-size-no-units, 14))', 'marginTop': '0.5rem', 'marginBottom': '0.5rem', 'borderColor': 'var(--text-color, var(--fg, #333))', 'backgroundColor': 'color-mix(in srgb, var(--text-color, var(--fg, #333)) 5%, transparent)'}, 'data': {'content': 'example-sentence', 'sentence-key': 'お得', 'source': '121485', 'source-type': 'tat'}, 'content': [{'tag': 'div', 'style': {'fontSize': '1.3em'}, 'data': {'content': 'example-sentence-a'}, 'content': [{'tag': 'ruby', 'content': ['買', {'tag': 'rt', 'content': 'か'}]}, 'い', {'tag': 'ruby', 'content': ['替', {'tag': 'rt', 'content': 'か'}]}, 'えた', {'tag': 'ruby', 'content': ['方', {'tag': 'rt', 'content': 'ほう'}]}, 'が', {'tag': 'span', 'style': {'color': 'color-mix(in srgb, lime, var(--text-color, var(--fg, #333)))'}, 'data': {'content': 'example-keyword'}, 'content': ['お', {'tag': 'ruby', 'content': ['得', {'tag': 'rt', 'content': 'とく'}]}]}, 'ですよ。']}, {'tag': 'div', 'style': {'fontSize': '0.8em'}, 'data': {'content': 'example-sentence-b'}, 'content': 'You will be better off buying a new one than trying to fix it.'}]}}}\n"
     ]
    }
   ],
   "source": [
    "print(data[ARB_IND][5][0].keys())\n",
    "print(data[ARB_IND][5][0]['type'])\n",
    "print(type(data[ARB_IND][5][0]['content']))\n",
    "print(len(data[ARB_IND][5][0]['content']))\n",
    "\n",
    "\n",
    "print(type(data[ARB_IND][5][0]['content'][0]))\n",
    "print(data[ARB_IND][5][0]['content'][0].keys())\n",
    "print(data[ARB_IND][5][0]['content'][0]['tag'])\n",
    "print(data[ARB_IND][5][0]['content'][0]['content'])\n",
    "print(len(data[ARB_IND][5][0]['content'][0]['content']))\n",
    "\n",
    "# 0th item:\n",
    "print(\"\\n 0th item\")\n",
    "print(type(data[ARB_IND][5][0]['content'][0]['content'][0]))\n",
    "print(data[ARB_IND][5][0]['content'][0]['content'][0].keys())\n",
    "# print(json.dumps(data[ARB_IND][5][0]['content'][0]['content'][0], indent=4))\n",
    "\n",
    "# 1st item:\n",
    "print(\"\\n 1st item:\")\n",
    "print(type(data[ARB_IND][5][0]['content'][0]['content'][1]))\n",
    "print(data[ARB_IND][5][0]['content'][0]['content'][1].keys())\n",
    "print(type(data[ARB_IND][5][0]['content'][0]['content'][1]['content'][0]))  # DEFINITIONS???\n",
    "\"\"\"\n",
    "print(data[ARB_IND][5][0]['content'][0]['content'][0]['content'][1].keys())\n",
    "print(type(data[ARB_IND][5][0]['content'][0]['content'][0]['content'][1]['content']))\n",
    "print(data[ARB_IND][5][0]['content'][0]['content'][0]['content'][1]['content'].keys())\n",
    "print(data[ARB_IND][5][0]['content'][0]['content'][0]['content'][1]['content']['content'][0]['content'][0]['content']) # definition\n",
    "print(data[ARB_IND][5][0]['content'][0]['content'][0]['content'][1]['content']['content'][0]['content']) # definition list (for first definition)\n",
    "\"\"\"\n",
    "# print(json.dumps(data[ARB_IND][5][0]['content'][0]['content'][1], indent=4))\n",
    "\n",
    "\n",
    "# 2nd item:\n",
    "print(\"\\n 2nd item:\")\n",
    "print(type(data[ARB_IND][5][0]['content'][0]['content'][2]))\n",
    "print(data[ARB_IND][5][0]['content'][0]['content'][2].keys())\n",
    "print(len(data[ARB_IND][5][0]['content'][0]['content'][2]['content']))\n",
    "print(data[ARB_IND][5][0]['content'][0]['content'][2]['content'][0]) # DEFINITIONS!!!\n",
    "print(data[ARB_IND][5][0]['content'][0]['content'][2]['content'][1])\n",
    "# print(json.dumps(data[ARB_IND][5][0]['content'][0]['content'][2], indent=4))\n",
    "\n",
    "\n",
    "# titles seem to be in data -> content\n",
    "# compared this with yomitan UI for the same word"
   ]
  },
  {
   "cell_type": "code",
   "execution_count": 371,
   "metadata": {},
   "outputs": [
    {
     "name": "stdout",
     "output_type": "stream",
     "text": [
      "dict_keys(['tag', 'data', 'content'])\n"
     ]
    },
    {
     "data": {
      "text/plain": [
       "'bargain \\n good-value \\n economical'"
      ]
     },
     "execution_count": 371,
     "metadata": {},
     "output_type": "execute_result"
    }
   ],
   "source": [
    "# definitions\n",
    "print(data[ARB_IND][5][0]['content'][0]['content'][2]['content'][0].keys())\n",
    "meanings = data[ARB_IND][5][0]['content'][0]['content'][2]['content'][0]['content']\n",
    "\n",
    "\" \\n \".join([item['content'] for item in meanings])"
   ]
  },
  {
   "cell_type": "markdown",
   "metadata": {},
   "source": [
    "bread and butter"
   ]
  },
  {
   "cell_type": "code",
   "execution_count": 400,
   "metadata": {},
   "outputs": [],
   "source": [
    "# V2, handles data content glossary \n",
    "def extract_definitions(json_obj):\n",
    "    \"\"\"\n",
    "    Extract definitions from a JSON structure where 'data -> content -> glossary' acts as the marker.\n",
    "\n",
    "    Args:\n",
    "        json_obj: The JSON object to search (can be a dict or list).\n",
    "\n",
    "    Returns:\n",
    "        A list of definitions found under the specified path.\n",
    "    \"\"\"\n",
    "    definitions = []\n",
    "\n",
    "    def recursive_search(obj):\n",
    "        if isinstance(obj, dict):\n",
    "            # Check if this dict contains the specific marker\n",
    "            if (\n",
    "                \"data\" in obj\n",
    "                and isinstance(obj[\"data\"], dict)\n",
    "                and obj[\"data\"].get(\"content\") == \"glossary\"\n",
    "                and \"content\" in obj\n",
    "            ):\n",
    "                # Extract the 'content' under this structure\n",
    "                glossary_content = obj[\"content\"]\n",
    "                if isinstance(glossary_content, list):\n",
    "                    # Collect all the 'content' fields from the glossary list\n",
    "                    for item in glossary_content:\n",
    "                        if isinstance(item, dict) and \"content\" in item:\n",
    "                            definitions.append(item[\"content\"])\n",
    "                elif isinstance(glossary_content, dict):\n",
    "                    # Single dictionary case (e.g., \"welcome!\")\n",
    "                    if \"content\" in glossary_content:\n",
    "                        definitions.append(glossary_content[\"content\"])\n",
    "            else:\n",
    "                # Continue searching deeper in the dict\n",
    "                for key, value in obj.items():\n",
    "                    recursive_search(value)\n",
    "        elif isinstance(obj, list):\n",
    "            # Search each item in the list\n",
    "            for item in obj:\n",
    "                recursive_search(item)\n",
    "\n",
    "    # Start the recursive search\n",
    "    recursive_search(json_obj)\n",
    "    return definitions\n"
   ]
  },
  {
   "cell_type": "code",
   "execution_count": 407,
   "metadata": {},
   "outputs": [
    {
     "name": "stdout",
     "output_type": "stream",
     "text": [
      "そうだ （そうだ）\n",
      "Definitions: ['that is so', 'that is right', 'it looks to me', \"that's my impression\", 'people say that', 'it is said that', 'I hear that']\n"
     ]
    }
   ],
   "source": [
    "# 199/200/201 -> work with new code\n",
    "# 500, 1290\n",
    "# 2,3 doesn't work, but those only have explanations and not meaning\n",
    "ARB_IND_2 = 1290\n",
    "print(data[ARB_IND_2][0], f\"（{data[ARB_IND_2][1]}）\")\n",
    "\n",
    "# Extract the definitions\n",
    "definitions = extract_definitions(data[ARB_IND_2])\n",
    "\n",
    "# Print the definitions\n",
    "print(\"Definitions:\", definitions)"
   ]
  },
  {
   "cell_type": "code",
   "execution_count": 464,
   "metadata": {},
   "outputs": [],
   "source": [
    "# redirect one.\n",
    "def extract_redirect(json_obj):\n",
    "    \"\"\"\n",
    "    # path for redirect -> 5, content, content (base), ⟶\n",
    "    # field: (base), 1, content\n",
    "    \"\"\"\n",
    "    # print(len(json_obj[5][0]['content']))\n",
    "    # print(json_obj[5][0]['content'][0])\n",
    "    # print(json_obj[5][0]['content'][1])\n",
    "    if (isinstance(json_obj, list) and \n",
    "        isinstance(json_obj[5], list) and \n",
    "        isinstance(json_obj[5][0], dict) and \n",
    "        isinstance(json_obj[5][0]['content'], dict)):\n",
    "        base = json_obj[5][0]['content']['content']\n",
    "    else:\n",
    "        # print(\"not based\")\n",
    "        return []\n",
    "    if base[0] == \"⟶\":\n",
    "        field_base = base[1]['content']\n",
    "        if isinstance(field_base, list):\n",
    "            return [field_base[0]]\n",
    "        elif isinstance(field_base, str):\n",
    "            return [field_base]\n",
    "        elif isinstance(field_base, dict):\n",
    "            return field_base['content'][0]\n",
    "        else: \n",
    "            return []\n",
    "    else: \n",
    "        \n",
    "        return []"
   ]
  },
  {
   "cell_type": "code",
   "execution_count": 465,
   "metadata": {},
   "outputs": [
    {
     "name": "stdout",
     "output_type": "stream",
     "text": [
      "熨斗鮑\n"
     ]
    }
   ],
   "source": [
    "redirected = extract_redirect(data[14711]) # 200, 8, 236, 2, 1962\n",
    "print(redirected)"
   ]
  },
  {
   "cell_type": "code",
   "execution_count": 470,
   "metadata": {},
   "outputs": [],
   "source": [
    "def extract_explanation(json_obj):\n",
    "    \"\"\"\n",
    "    Only 39 left out of 300k. Not a priority.\n",
    "    'content': \n",
    "        [\n",
    "            {\n",
    "                'tag': 'div',\n",
    "                'style': {'color': '#777',\n",
    "                        'fontStyle': 'italic',\n",
    "                        'fontSize': '0.8em'},\n",
    "                'content': 'Explanation'\n",
    "            },\n",
    "            {\n",
    "                'tag': 'div',\n",
    "                'style': {'marginLeft': '0.5rem'},\n",
    "                'content': 'transferring a shintai in a portable shrine, e.g. to another shrine or to a ceremony'\n",
    "            }\n",
    "        ]\n",
    "    \"\"\"\n",
    "    pass"
   ]
  },
  {
   "cell_type": "code",
   "execution_count": 469,
   "metadata": {},
   "outputs": [
    {
     "data": {
      "text/plain": [
       "['神幸',\n",
       " 'しんこう',\n",
       " '',\n",
       " '',\n",
       " 0,\n",
       " [{'type': 'structured-content',\n",
       "   'content': [{'tag': 'div',\n",
       "     'content': [{'tag': 'span',\n",
       "       'title': 'noun (common) (futsuumeishi)',\n",
       "       'style': {'fontSize': '0.8em',\n",
       "        'fontWeight': 'bold',\n",
       "        'padding': '0.2em 0.3em',\n",
       "        'wordBreak': 'keep-all',\n",
       "        'borderRadius': '0.3em',\n",
       "        'verticalAlign': 'text-bottom',\n",
       "        'backgroundColor': '#565656',\n",
       "        'color': 'white',\n",
       "        'cursor': 'help',\n",
       "        'marginRight': '0.25em'},\n",
       "       'data': {'code': 'n'},\n",
       "       'content': 'noun'},\n",
       "      {'tag': 'span',\n",
       "       'title': 'Shinto',\n",
       "       'style': {'fontSize': '0.8em',\n",
       "        'fontWeight': 'bold',\n",
       "        'padding': '0.2em 0.3em',\n",
       "        'wordBreak': 'keep-all',\n",
       "        'borderRadius': '0.3em',\n",
       "        'verticalAlign': 'text-bottom',\n",
       "        'backgroundColor': 'purple',\n",
       "        'color': 'white',\n",
       "        'cursor': 'help',\n",
       "        'marginRight': '0.25em'},\n",
       "       'data': {'code': 'Shinto'},\n",
       "       'content': 'Shintō'},\n",
       "      {'tag': 'div',\n",
       "       'content': {'tag': 'div',\n",
       "        'style': {'marginLeft': '0.5em'},\n",
       "        'data': {'content': 'extra-info'},\n",
       "        'content': [{'tag': 'div',\n",
       "          'content': {'tag': 'div',\n",
       "           'style': {'borderStyle': 'none none none solid',\n",
       "            'padding': '0.5rem',\n",
       "            'borderRadius': '0.4rem',\n",
       "            'borderWidth': 'calc(3em / var(--font-size-no-units, 14))',\n",
       "            'marginTop': '0.5rem',\n",
       "            'marginBottom': '0.5rem',\n",
       "            'borderColor': 'green',\n",
       "            'backgroundColor': 'color-mix(in srgb, green 5%, transparent)'},\n",
       "           'data': {'content': 'info-gloss', 'gloss-type': 'expl'},\n",
       "           'content': [{'tag': 'div',\n",
       "             'style': {'color': '#777',\n",
       "              'fontStyle': 'italic',\n",
       "              'fontSize': '0.8em'},\n",
       "             'content': 'Explanation'},\n",
       "            {'tag': 'div',\n",
       "             'style': {'marginLeft': '0.5rem'},\n",
       "             'content': 'transferring a shintai in a portable shrine, e.g. to another shrine or to a ceremony'}]}},\n",
       "         {'tag': 'div',\n",
       "          'content': {'tag': 'div',\n",
       "           'style': {'borderStyle': 'none none none solid',\n",
       "            'padding': '0.5rem',\n",
       "            'borderRadius': '0.4rem',\n",
       "            'borderWidth': 'calc(3em / var(--font-size-no-units, 14))',\n",
       "            'marginTop': '0.5rem',\n",
       "            'marginBottom': '0.5rem',\n",
       "            'borderColor': '#1A73E8',\n",
       "            'backgroundColor': 'color-mix(in srgb, #1A73E8 5%, transparent)'},\n",
       "           'data': {'content': 'xref'},\n",
       "           'content': [{'tag': 'div',\n",
       "             'style': {'fontSize': '1.3em'},\n",
       "             'content': [{'tag': 'span',\n",
       "               'lang': 'en',\n",
       "               'style': {'fontSize': '0.8em',\n",
       "                'marginRight': '0.5rem',\n",
       "                'color': '#1A73E8'},\n",
       "               'content': 'See also'},\n",
       "              {'tag': 'a',\n",
       "               'lang': 'ja',\n",
       "               'href': '?query=%E7%A5%9E%E4%BD%93&wildcards=off&primary_reading=%E3%81%97%E3%82%93%E3%81%9F%E3%81%84',\n",
       "               'content': [{'tag': 'ruby',\n",
       "                 'content': ['神', {'tag': 'rt', 'content': 'しん'}]},\n",
       "                {'tag': 'ruby',\n",
       "                 'content': ['体', {'tag': 'rt', 'content': 'たい'}]}]}]},\n",
       "            {'tag': 'div',\n",
       "             'style': {'fontSize': '0.8rem'},\n",
       "             'data': {'content': 'xref-glossary'},\n",
       "             'content': 'shintai'}]}}]}}]},\n",
       "    {'tag': 'div',\n",
       "     'style': {'marginTop': '0.5rem'},\n",
       "     'data': {'content': 'forms'},\n",
       "     'content': [{'tag': 'span',\n",
       "       'title': 'spelling and reading variants',\n",
       "       'style': {'fontSize': '0.8em',\n",
       "        'fontWeight': 'bold',\n",
       "        'padding': '0.2em 0.3em',\n",
       "        'wordBreak': 'keep-all',\n",
       "        'borderRadius': '0.3em',\n",
       "        'verticalAlign': 'text-bottom',\n",
       "        'backgroundColor': '#565656',\n",
       "        'color': 'white',\n",
       "        'cursor': 'help',\n",
       "        'marginRight': '0.25em'},\n",
       "       'content': 'forms'},\n",
       "      {'tag': 'div',\n",
       "       'style': {'marginTop': '0.2em'},\n",
       "       'content': {'tag': 'table',\n",
       "        'content': [{'tag': 'tr',\n",
       "          'content': [{'tag': 'th'},\n",
       "           {'tag': 'th',\n",
       "            'style': {'fontSize': '1.2em',\n",
       "             'textAlign': 'center',\n",
       "             'fontWeight': 'normal'},\n",
       "            'content': '神幸'}]},\n",
       "         {'tag': 'tr',\n",
       "          'content': [{'tag': 'th',\n",
       "            'style': {'fontWeight': 'normal'},\n",
       "            'content': 'しんこう'},\n",
       "           {'tag': 'td',\n",
       "            'style': {'textAlign': 'center'},\n",
       "            'content': {'tag': 'div',\n",
       "             'title': 'valid form/reading combination',\n",
       "             'style': {'cursor': 'help',\n",
       "              'padding': '0 0.5em',\n",
       "              'color': 'var(--background-color, var(--canvas, #f8f9fa))',\n",
       "              'background': 'radial-gradient(var(--text-color, var(--fg, #333)) 50%, white 100%)',\n",
       "              'clipPath': 'circle()',\n",
       "              'fontWeight': 'bold'},\n",
       "             'content': '◇'}}]},\n",
       "         {'tag': 'tr',\n",
       "          'content': [{'tag': 'th',\n",
       "            'style': {'fontWeight': 'normal'},\n",
       "            'content': 'じんこう'},\n",
       "           {'tag': 'td',\n",
       "            'style': {'textAlign': 'center'},\n",
       "            'content': {'tag': 'div',\n",
       "             'title': 'valid form/reading combination',\n",
       "             'style': {'cursor': 'help',\n",
       "              'padding': '0 0.5em',\n",
       "              'color': 'var(--background-color, var(--canvas, #f8f9fa))',\n",
       "              'background': 'radial-gradient(var(--text-color, var(--fg, #333)) 50%, white 100%)',\n",
       "              'clipPath': 'circle()',\n",
       "              'fontWeight': 'bold'},\n",
       "             'content': '◇'}}]}]}}]},\n",
       "    {'tag': 'div',\n",
       "     'style': {'fontSize': '0.7em', 'textAlign': 'right'},\n",
       "     'data': {'content': 'attribution'},\n",
       "     'content': {'tag': 'a',\n",
       "      'href': 'https://www.edrdg.org/jmwsgi/entr.py?svc=jmdict&q=2815440',\n",
       "      'content': 'JMdict'}}]}],\n",
       " 2815440,\n",
       " '']"
      ]
     },
     "execution_count": 469,
     "metadata": {},
     "output_type": "execute_result"
    }
   ],
   "source": [
    "data[57304]"
   ]
  },
  {
   "cell_type": "markdown",
   "metadata": {},
   "source": [
    "the ultimate test over the entire data"
   ]
  },
  {
   "cell_type": "code",
   "execution_count": null,
   "metadata": {},
   "outputs": [],
   "source": [
    "failed = [(i, word) for i, word in enumerate(data) if len(extract_definitions(word)) == 0]\n",
    "print(len(failed))"
   ]
  },
  {
   "cell_type": "code",
   "execution_count": 467,
   "metadata": {},
   "outputs": [
    {
     "name": "stdout",
     "output_type": "stream",
     "text": [
      "39\n"
     ]
    }
   ],
   "source": [
    "failed_redirect = [(i, word) for i, word in failed if len(extract_redirect(word)) == 0]\n",
    "print(len(failed_redirect))"
   ]
  },
  {
   "cell_type": "code",
   "execution_count": 468,
   "metadata": {},
   "outputs": [
    {
     "name": "stdout",
     "output_type": "stream",
     "text": [
      "1 ヾ\n",
      "2 ゝ\n",
      "3 ゞ\n",
      "7 々\n",
      "8 ノマ\n",
      "6302 フリーブッキング\n",
      "6303 フリー・ブッキング\n",
      "14569 のか\n",
      "20116 春塵\n",
      "24732 ラッキーゾーン\n",
      "24733 ラッキー・ゾーン\n",
      "40839 ばい\n",
      "50611 雲白肉\n",
      "55041 っち\n",
      "57304 神幸\n",
      "57305 神幸\n",
      "59629 こじらせ女子\n",
      "59630 拗らせ女子\n",
      "60671 くぱぁ\n",
      "72439 父母の恩は山よりも高く海よりも深し\n",
      "72905 飢えたる犬は棒を恐れず\n",
      "72913 遠慮なければ近憂あり\n",
      "72914 遠慮無ければ近憂あり\n",
      "79086 右舞\n",
      "79087 右舞\n",
      "79978 通学帽\n",
      "80538 火計\n",
      "102205 秋刀魚は目黒に限る\n",
      "102206 さんまは目黒に限る\n",
      "102207 サンマは目黒に限る\n",
      "135491 夙\n",
      "135492 宿\n",
      "135493 守公\n",
      "135494 守宮\n",
      "239331 ぞ\n",
      "242995 哨吶\n",
      "242996 哨吶\n",
      "265764 わい\n",
      "265765 わえ\n"
     ]
    }
   ],
   "source": [
    "for i, word in failed_redirect: print(i, word[0]) "
   ]
  },
  {
   "cell_type": "code",
   "execution_count": 422,
   "metadata": {},
   "outputs": [
    {
     "data": {
      "text/plain": [
       "['熨斗アワビ',\n",
       " '',\n",
       " '',\n",
       " '',\n",
       " -102,\n",
       " [{'type': 'structured-content',\n",
       "   'content': {'tag': 'div',\n",
       "    'lang': 'ja',\n",
       "    'style': {'fontSize': '180%', 'marginTop': '0.2em'},\n",
       "    'content': ['⟶',\n",
       "     {'tag': 'a',\n",
       "      'href': '?query=%E7%86%A8%E6%96%97%E9%AE%91&wildcards=off&primary_reading=%E3%81%AE%E3%81%97%E3%81%82%E3%82%8F%E3%81%B3',\n",
       "      'content': {'tag': 'ruby',\n",
       "       'content': ['熨斗鮑', {'tag': 'rt', 'content': 'のしあわび'}]}}]}}],\n",
       " -2528680,\n",
       " '']"
      ]
     },
     "execution_count": 422,
     "metadata": {},
     "output_type": "execute_result"
    }
   ],
   "source": [
    "data[14711]"
   ]
  },
  {
   "cell_type": "code",
   "execution_count": null,
   "metadata": {},
   "outputs": [],
   "source": [
    "# path for redirect -> 5, content, content (base), ⟶\n",
    "# field: (base), 1, content"
   ]
  },
  {
   "cell_type": "code",
   "execution_count": 684,
   "metadata": {},
   "outputs": [
    {
     "data": {
      "text/plain": [
       "True"
      ]
     },
     "execution_count": 684,
     "metadata": {},
     "output_type": "execute_result"
    }
   ],
   "source": [
    "# Is there a faster way search if it's all sorted in gojuuon order?\n",
    "# trie? no. that's prefix searching. need exact\n",
    "# cached index is O(1) speed\n",
    "\n",
    "# there are 16541 duplicates (multiple readings? -> looks like it...)\n",
    "# きん・かね、\n",
    "\"\"\"\n",
    "    if word[0] in cached_index:\n",
    "        dup += 1\n",
    "        if dup == 12345: print(word[0])\n",
    "        continue\n",
    "\"\"\"\n",
    "from collections import defaultdict\n",
    "cached_index = defaultdict(list)\n",
    "\n",
    "dup = 0\n",
    "for i, word in enumerate(sorted_dataset):\n",
    "    cached_index[word[0]].append(i)\n",
    "\n",
    "sum(len(v) for k, v in cached_index.items()) == len(data)"
   ]
  },
  {
   "cell_type": "code",
   "execution_count": 685,
   "metadata": {},
   "outputs": [],
   "source": [
    "# Save to file\n",
    "CACHE_FILE = \"my_cached_index.json\"\n",
    "with open(os.path.join(JITENDEX_PATH, CACHE_FILE), \"w\", encoding=\"utf-8\") as json_file:\n",
    "    json.dump(cached_index, json_file, indent=4)\n",
    "\n",
    "# maybe should also cache the indexe range per file? like\n",
    "# inclusive range\n",
    "# \"term_bank_1.json\" = [0, 1999] "
   ]
  },
  {
   "cell_type": "code",
   "execution_count": 686,
   "metadata": {},
   "outputs": [],
   "source": [
    "# Read from file\n",
    "with open(os.path.join(JITENDEX_PATH, CACHE_FILE), \"r\", encoding=\"utf-8\") as json_file:\n",
    "    cache = json.load(json_file)"
   ]
  },
  {
   "cell_type": "code",
   "execution_count": 687,
   "metadata": {},
   "outputs": [
    {
     "data": {
      "text/plain": [
       "True"
      ]
     },
     "execution_count": 687,
     "metadata": {},
     "output_type": "execute_result"
    }
   ],
   "source": [
    "sum(len(v) for k, v in cache.items()) == len(data)"
   ]
  },
  {
   "cell_type": "code",
   "execution_count": null,
   "metadata": {},
   "outputs": [],
   "source": [
    "def binary_search(yomigana):\n",
    "    pass"
   ]
  },
  {
   "cell_type": "code",
   "execution_count": 730,
   "metadata": {},
   "outputs": [],
   "source": [
    "def generate_fields_with_jitendex(word, ds):\n",
    "    \"\"\"\n",
    "    Get fields\n",
    "    \"\"\"\n",
    "    readings = []\n",
    "    \n",
    "    if word not in cache:\n",
    "        # Return none for now...\n",
    "        # Could use binary search but there are problems\n",
    "        # 1) have to check if the word is kana only\n",
    "        # 2) words like そば could either be 傍　蕎麦　側\n",
    "        return None\n",
    "    else:\n",
    "        for index in cache[word]:\n",
    "            word_info = ds[index]\n",
    "            yomigana = word_info[1]\n",
    "            assert word == word_info[0]\n",
    "            defs = extract_definitions(word_info)\n",
    "            if defs is None:\n",
    "                defs = extract_redirect(word_info)\n",
    "            if defs is None:\n",
    "                defs = extract_explanation(word_info)\n",
    "            readings.append(f\"{word}[{yomigana}]\")\n",
    "        \n",
    "        furigana = \" / \".join(readings)\n",
    "        meaning = \", \".join(defs)\n",
    "\n",
    "    return word, furigana, meaning"
   ]
  },
  {
   "cell_type": "code",
   "execution_count": 731,
   "metadata": {},
   "outputs": [
    {
     "data": {
      "text/plain": [
       "('あり得る',\n",
       " 'あり得る[ありうる] / あり得る[ありえる]',\n",
       " 'to be possible, to be conceivable, to be likely, to be probable')"
      ]
     },
     "execution_count": 731,
     "metadata": {},
     "output_type": "execute_result"
    }
   ],
   "source": [
    "# Good examples: あり得る, 掛ける\n",
    "# Problems: かける -> not in data since the dictionary forms all are kanji\n",
    "word = \"あり得る\"\n",
    "generate_fields_with_jitendex(word, sorted_dataset)"
   ]
  },
  {
   "cell_type": "code",
   "execution_count": 732,
   "metadata": {},
   "outputs": [],
   "source": [
    "japanese_words_kanji = [\n",
    "    \"ありがとう\", \"桜\", \"神\", \"猫\", \"兎\", \"林檎\", \"水\", \"山\", \"川\", \"蜜柑\",\n",
    "    \"天気\", \"本\", \"鳥\", \"今日\", \"朝\", \"お菓子\", \"新聞\", \"電車\", \"食べ物\", \"大きい\",\n",
    "    \"小さい\", \"寿司\", \"たくさん\", \"世界\", \"鉛筆\", \"時計\", \"案内\", \"公園\", \"歌\",\n",
    "    \"飛行機\", \"自転車\", \"白\", \"黒\", \"青\", \"黄色\", \"赤\", \"緑\", \"白い\", \"黒い\",\n",
    "    \"青い\", \"多い\", \"少し\", \"時間\", \"友達\", \"皆\", \"自分\", \"私\", \"あなた\", \"あの\",\n",
    "    \"家\", \"内\", \"部屋\", \"大学\", \"学校\", \"小学生\", \"父\", \"母\", \"お父さん\", \"お母さん\",\n",
    "    \"子供\", \"大人\", \"お婆さん\", \"お爺さん\", \"天気予報\", \"お金\", \"図書館\", \"スイカ\", \"相撲\",\n",
    "    \"故郷\", \"家族\", \"仕事\", \"大阪\", \"東京\", \"中国\", \"日本\", \"町\", \"村\", \"祭り\",\n",
    "    \"お寿司\", \"卵\", \"人形\", \"本屋\", \"野菜\", \"食事\", \"お湯\", \"焼肉\", \"写真\", \"先生\",\n",
    "    \"旅行\", \"頭\", \"目\", \"耳\", \"口\", \"足\", \"手\", \"人\", \"私\", \"あなた\", \"手伝い\", \"動く\",\n",
    "    \"通る\", \"分かる\", \"聞く\", \"行く\", \"来る\", \"見る\", \"話す\", \"買う\", \"上げる\", \"貰う\", \"教える\", \"知る\",\n",
    "    \"起きる\", \"寝る\", \"笑う\", \"怒る\", \"歌う\", \"踊る\", \"飛ぶ\", \"死ぬ\", \"生まれる\", \"使う\", \"作る\",\n",
    "    \"取る\", \"掛ける\", \"遊ぶ\", \"立つ\", \"座る\", \"楽しい\", \"悲しい\", \"辛い\", \"嬉しい\", \"面白い\",\n",
    "    \"病気\", \"健康\", \"安全\", \"新しい\", \"古い\", \"大きな\", \"小さな\", \"うるさい\", \"静か\",\n",
    "    \"愛\", \"暗記\", \"漢字\", \"太陽\", \"星\", \"月\", \"時間\", \"空\", \"風\", \"雨\", \"雪\", \"電気\", \"火\", \"水\",\n",
    "    \"土\", \"金\", \"日\", \"月曜日\", \"火曜日\", \"水曜日\", \"木曜日\", \"金曜日\", \"土曜日\", \"日曜日\", \n",
    "    \"名前\", \"顔\", \"体\", \"目標\", \"経験\", \"勉強\", \"休憩\", \"答え\", \"問題\", \"教室\", \"友達\", \"親\",\n",
    "    \"ゲーム\", \"映画\", \"音楽\", \"テレビ\", \"スポーツ\", \"ラーメン\", \"寿司\", \"アイスクリーム\", \"カフェ\", \"レストラン\",\n",
    "    \"オフィス\", \"職場\", \"会話\", \"報告\", \"議論\", \"電話\", \"郵便\", \"カレンダー\", \"日記\", \"手紙\", \"メモ\",\n",
    "    \"画面\", \"コンピュータ\", \"インターネット\", \"パソコン\", \"キーボード\", \"マウス\", \"アプリ\", \"ソフトウェア\", \n",
    "    \"データ\", \"情報\", \"ファイル\", \"フォルダ\", \"保存\", \"アップロード\", \"ダウンロード\", \"インストール\", \"更新\",\n",
    "    \"コード\", \"プログラム\", \"コンパイル\", \"デバッグ\", \"エラー\", \"修正\", \"解析\", \"計算\", \"式\", \"アルゴリズム\", \n",
    "    \"数学\", \"英語\", \"国語\", \"歴史\", \"科学\", \"社会\", \"地理\", \"化学\", \"物理\", \"生物\", \"政治\", \"経済\", \"文化\", \n",
    "    \"宗教\", \"哲学\", \"文学\", \"美術\", \"音楽\", \"運動\", \"地元\", \"大都市\", \"観光\", \"訪問\", \"旅行\", \"宿泊\", \"空港\",\n",
    "    \"駅\", \"バス\", \"車\", \"自転車\", \"歩く\", \"走る\", \"旅行先\", \"観光地\", \"目的地\", \"案内所\", \"旅行ガイド\", \n",
    "    \"旅行記\", \"観光名所\", \"博物館\", \"美術館\", \"公園\", \"寺\", \"神社\", \"山登り\", \"海\", \"温泉\", \"公共交通\", \n",
    "    \"チケット\", \"パスポート\", \"地図\", \"旅行代理店\", \"ホテル\", \"旅館\", \"民宿\", \"ホステル\", \"レストラン\", \n",
    "    \"カフェ\", \"食堂\", \"居酒屋\", \"ラーメン\", \"焼肉\", \"寿司\", \"天ぷら\", \"うどん\", \"そば\", \"お好み焼き\", \"カレー\",\n",
    "    \"定食\", \"丼\", \"弁当\", \"スナック\", \"アイスクリーム\", \"ケーキ\", \"ジュース\", \"ビール\", \"お酒\", \"ワイン\", \"酒\"\n",
    "]"
   ]
  },
  {
   "cell_type": "code",
   "execution_count": 733,
   "metadata": {},
   "outputs": [
    {
     "name": "stdout",
     "output_type": "stream",
     "text": [
      "Not found: 7\n",
      "CPU times: total: 31.2 ms\n",
      "Wall time: 34.5 ms\n"
     ]
    }
   ],
   "source": [
    "%%time\n",
    "\n",
    "failures = []\n",
    "for word in japanese_words_kanji:\n",
    "    card_fields = get_fields(word, sorted_dataset)\n",
    "    if card_fields is None:\n",
    "        failures.append(word)\n",
    "\n",
    "print(f\"Not found: {len(failures)}\")"
   ]
  },
  {
   "cell_type": "code",
   "execution_count": 734,
   "metadata": {},
   "outputs": [
    {
     "data": {
      "text/plain": [
       "['たくさん', 'あなた', 'お寿司', 'あなた', 'うるさい', '旅行ガイド', 'そば']"
      ]
     },
     "execution_count": 734,
     "metadata": {},
     "output_type": "execute_result"
    }
   ],
   "source": [
    "failures"
   ]
  },
  {
   "cell_type": "code",
   "execution_count": 735,
   "metadata": {},
   "outputs": [],
   "source": [
    "# deckName = \"-exp::anki-connect-test\"\n",
    "DECK_NAME = \"nhg::3vocab::auto-unsorted\"\n",
    "NOTE_MODEL_NAME = \"2-Vocab\"\n",
    "\n",
    "class DuplicateNoteException(Exception):\n",
    "    pass\n",
    "\n",
    "def generate_fields_with_jisho(word):\n",
    "    \"\"\"\n",
    "    This is slow. Use jitendex or JMDict directly\n",
    "    \"\"\"\n",
    "    pass\n",
    "\n",
    "def create_note(word, deck_name=DECK_NAME, generation_method=\"jitendex\", tags=[], allow_same=True, force_generate=False):\n",
    "    \"\"\"\n",
    "    Generalize creating a note\n",
    "\n",
    "    Args:\n",
    "        deck_name: name of deck to generate to\n",
    "        generateion_method: jitendex or jisho\n",
    "        tags: extra tags to tag the note with\n",
    "        allow_same: is for same words with different kanji\n",
    "        force_generate: generate cards that are not found\n",
    "        \n",
    "    Returns:\n",
    "        return code\n",
    "        -2 - Error\n",
    "        -1 - Not Found\n",
    "        0 - duplicate\n",
    "        else: card_id integer\n",
    "    \"\"\"\n",
    "    note = dict()\n",
    "    note[\"deckName\"] = deck_name\n",
    "    note[\"modelName\"] = NOTE_MODEL_NAME\n",
    "    note[\"tags\"] = [\"autocreated\"]\n",
    "\n",
    "    \"\"\"\n",
    "    Fields to fill out: \n",
    "    Word\n",
    "    Furigana\n",
    "    Meaning\n",
    "    \"\"\"\n",
    "\n",
    "\n",
    "    print(\"Creating card for:\", word)\n",
    "    fields = {}\n",
    "\n",
    "    if generation_method == \"jisho\":\n",
    "        word_info = generate_fields_with_jisho(word)\n",
    "    elif generation_method == \"jitendex\":\n",
    "        word_info = generate_fields_with_jitendex(word, sorted_dataset)\n",
    "    else:\n",
    "        print(\"Generation method is not implemented\")\n",
    "        raise NotImplementedError\n",
    "\n",
    "    # Fill in fields\n",
    "    if word_info:\n",
    "        fields[\"Word\"] = word_info[0]\n",
    "        fields[\"Furigana\"] = word_info[1]\n",
    "        fields[\"Meaning\"] = word_info[2]\n",
    "    elif word_info is None and force_generate == True:\n",
    "        fields[\"Word\"] = word\n",
    "    else:\n",
    "        return -1\n",
    "\n",
    "    note[\"fields\"] = fields\n",
    "    # AnkiConnect request\n",
    "    return note"
   ]
  },
  {
   "cell_type": "code",
   "execution_count": 737,
   "metadata": {},
   "outputs": [
    {
     "name": "stdout",
     "output_type": "stream",
     "text": [
      "Creating card for: 掛ける\n"
     ]
    },
    {
     "data": {
      "text/plain": [
       "{'deckName': 'nhg::3vocab::auto-unsorted',\n",
       " 'modelName': '2-Vocab',\n",
       " 'tags': ['autocreated'],\n",
       " 'fields': {'Word': '掛ける',\n",
       "  'Furigana': '掛ける[かける]',\n",
       "  'Meaning': 'to hang up (e.g. a coat, a picture on the wall), to let hang, to suspend (from), to hoist (e.g. sail), to raise (e.g. flag), to put on (e.g. a blanket), to put on top of, to cover, to lay, to spread, to put on (glasses, etc.), to wear (a necklace, etc.), to make (a call), to spend (time, money), to expend, to use, to pour (liquid) onto, to sprinkle (powder or spices) onto, to splash, to throw (e.g. water) onto, to turn on (an engine, radio, etc.), to set (a dial, alarm clock, etc.), to put on (a DVD, song, etc.), to use (a device, implement, etc.), to cause (someone inconvenience, trouble, etc.), to burden (someone), to impose, to multiply (arithmetic operation), to secure (e.g. lock), to take a seat, to sit, to rest (something on something else), to support (something on something else), to bind, to wager, to bet, to risk, to stake, to gamble, to put an effect (spell, anaesthetic, etc.) on, to hold (a play, festival, etc.), to hold an emotion for (pity, hope, etc.), to argue (in court), to deliberate (in a meeting), to present (e.g. idea to a conference, etc.), to increase further, to catch (in a trap, etc.), to set atop, to erect (a makeshift building), to apply (insurance), to pun (on a word), to use (a word) as a pivot word, to play on words, to be partway doing ..., to begin (but not complete) ..., to be about to ..., to address (someone), to direct (something, to someone), to do (something, to someone)'}}"
      ]
     },
     "execution_count": 737,
     "metadata": {},
     "output_type": "execute_result"
    }
   ],
   "source": [
    "create_note(\"掛ける\")"
   ]
  },
  {
   "cell_type": "code",
   "execution_count": null,
   "metadata": {},
   "outputs": [],
   "source": []
  }
 ],
 "metadata": {
  "kernelspec": {
   "display_name": "Python 3",
   "language": "python",
   "name": "python3"
  },
  "language_info": {
   "codemirror_mode": {
    "name": "ipython",
    "version": 3
   },
   "file_extension": ".py",
   "mimetype": "text/x-python",
   "name": "python",
   "nbconvert_exporter": "python",
   "pygments_lexer": "ipython3",
   "version": "3.12.0"
  }
 },
 "nbformat": 4,
 "nbformat_minor": 2
}
