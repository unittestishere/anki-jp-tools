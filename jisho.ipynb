{
 "cells": [
  {
   "cell_type": "code",
   "execution_count": 22,
   "metadata": {},
   "outputs": [],
   "source": [
    "from jisho_api.word import Word"
   ]
  },
  {
   "cell_type": "code",
   "execution_count": 2,
   "metadata": {},
   "outputs": [],
   "source": [
    "def vdir(obj):\n",
    "    return [x for x in dir(obj) if not x.startswith('__')]"
   ]
  },
  {
   "cell_type": "code",
   "execution_count": 4,
   "metadata": {},
   "outputs": [],
   "source": [
    "word = '絵師'\n",
    "word2 = '加わる'"
   ]
  },
  {
   "cell_type": "markdown",
   "metadata": {},
   "source": [
    "request:"
   ]
  },
  {
   "cell_type": "code",
   "execution_count": 5,
   "metadata": {},
   "outputs": [],
   "source": [
    "r1 = Word.request(word)\n",
    "r2 = Word.request(word2)"
   ]
  },
  {
   "cell_type": "markdown",
   "metadata": {},
   "source": [
    "# response:"
   ]
  },
  {
   "cell_type": "code",
   "execution_count": 24,
   "metadata": {},
   "outputs": [],
   "source": [
    "r1e = r1.data[0]"
   ]
  },
  {
   "cell_type": "code",
   "execution_count": 36,
   "metadata": {},
   "outputs": [
    {
     "name": "stdout",
     "output_type": "stream",
     "text": [
      "word='絵師' reading='えし'\n",
      "word='画師' reading='えし'\n",
      "word='画師' reading='がし'\n",
      "絵師\n",
      "[Sense(english_definitions=['painter', 'artist', 'painter supported by patron'], parts_of_speech=['Noun'], links=[], tags=[], restrictions=[], see_also=[], antonyms=[], source=[], info=[]), Sense(english_definitions=['Eshi'], parts_of_speech=['Place'], links=[], tags=[], restrictions=[], see_also=[], antonyms=[], source=[], info=[])]\n"
     ]
    }
   ],
   "source": [
    "print(r1e.japanese[0])\n",
    "print(r1e.japanese[1])\n",
    "print(r1e.japanese[2])\n",
    "\n",
    "found_word = None\n",
    "\n",
    "for entry in r1.data:\n",
    "    for repr in entry.japanese:\n",
    "        if repr.word == word:\n",
    "            found_word = repr.word\n",
    "\n",
    "print(found_word)\n",
    "print(r1e.senses)"
   ]
  },
  {
   "cell_type": "code",
   "execution_count": 31,
   "metadata": {},
   "outputs": [
    {
     "data": {
      "text/plain": [
       "'加わる'"
      ]
     },
     "execution_count": 31,
     "metadata": {},
     "output_type": "execute_result"
    }
   ],
   "source": [
    "# found_word = None\n",
    "for item in r2.data:\n",
    "    if item.slug == word2:\n",
    "        found_word = item\n",
    "\n",
    "# vdir(found_word)\n",
    "found_word.slug"
   ]
  },
  {
   "cell_type": "markdown",
   "metadata": {},
   "source": [
    "Explore a verb"
   ]
  },
  {
   "cell_type": "code",
   "execution_count": 36,
   "metadata": {},
   "outputs": [
    {
     "data": {
      "text/plain": [
       "WordConfig(slug='加わる', is_common=True, tags=[], jlpt=['jlpt-n3'], japanese=[Japanese(word='加わる', reading='くわわる')], senses=[Sense(english_definitions=['to be added to', 'to be appended'], parts_of_speech=[\"Godan verb with 'ru' ending\", 'Intransitive verb'], links=[], tags=[], restrictions=[], see_also=[], antonyms=[], source=[], info=[]), Sense(english_definitions=['to join in (e.g. a group of friends)', 'to participate'], parts_of_speech=[\"Godan verb with 'ru' ending\", 'Intransitive verb'], links=[], tags=[], restrictions=[], see_also=[], antonyms=[], source=[], info=[]), Sense(english_definitions=['to increase (e.g. heat)', 'to gain in (e.g. influence)', 'to grow', 'to gather (speed)'], parts_of_speech=[\"Godan verb with 'ru' ending\", 'Intransitive verb'], links=[], tags=[], restrictions=[], see_also=[], antonyms=[], source=[], info=[]), Sense(english_definitions=['to be applied (e.g. heat, pressure)', 'to be exerted'], parts_of_speech=[\"Godan verb with 'ru' ending\", 'Intransitive verb'], links=[], tags=[], restrictions=[], see_also=[], antonyms=[], source=[], info=[])])"
      ]
     },
     "execution_count": 36,
     "metadata": {},
     "output_type": "execute_result"
    }
   ],
   "source": [
    "found_word"
   ]
  },
  {
   "cell_type": "code",
   "execution_count": 37,
   "metadata": {},
   "outputs": [
    {
     "name": "stdout",
     "output_type": "stream",
     "text": [
      "加わる\n",
      "True\n",
      "[]\n",
      "['jlpt-n3']\n",
      "[Japanese(word='加わる', reading='くわわる')]\n",
      "[Sense(english_definitions=['to be added to', 'to be appended'], parts_of_speech=[\"Godan verb with 'ru' ending\", 'Intransitive verb'], links=[], tags=[], restrictions=[], see_also=[], antonyms=[], source=[], info=[]), Sense(english_definitions=['to join in (e.g. a group of friends)', 'to participate'], parts_of_speech=[\"Godan verb with 'ru' ending\", 'Intransitive verb'], links=[], tags=[], restrictions=[], see_also=[], antonyms=[], source=[], info=[]), Sense(english_definitions=['to increase (e.g. heat)', 'to gain in (e.g. influence)', 'to grow', 'to gather (speed)'], parts_of_speech=[\"Godan verb with 'ru' ending\", 'Intransitive verb'], links=[], tags=[], restrictions=[], see_also=[], antonyms=[], source=[], info=[]), Sense(english_definitions=['to be applied (e.g. heat, pressure)', 'to be exerted'], parts_of_speech=[\"Godan verb with 'ru' ending\", 'Intransitive verb'], links=[], tags=[], restrictions=[], see_also=[], antonyms=[], source=[], info=[])]\n"
     ]
    }
   ],
   "source": [
    "print(found_word.slug)\n",
    "print(found_word.is_common)\n",
    "print(found_word.tags)\n",
    "print(found_word.jlpt)\n",
    "print(found_word.japanese)\n",
    "print(found_word.senses)"
   ]
  },
  {
   "cell_type": "code",
   "execution_count": 38,
   "metadata": {},
   "outputs": [
    {
     "name": "stdout",
     "output_type": "stream",
     "text": [
      "['to be added to', 'to be appended']\n",
      "[\"Godan verb with 'ru' ending\", 'Intransitive verb']\n",
      "[]\n",
      "[]\n",
      "[]\n",
      "[]\n",
      "[]\n",
      "[]\n",
      "[]\n"
     ]
    }
   ],
   "source": [
    "s1 = found_word.senses[0]\n",
    "print(s1.english_definitions)\n",
    "print(s1.parts_of_speech)\n",
    "print(s1.links)\n",
    "print(s1.tags)\n",
    "print(s1.restrictions)\n",
    "print(s1.see_also)\n",
    "print(s1.antonyms)\n",
    "print(s1.source)\n",
    "print(s1.info)"
   ]
  },
  {
   "cell_type": "code",
   "execution_count": 39,
   "metadata": {},
   "outputs": [
    {
     "name": "stdout",
     "output_type": "stream",
     "text": [
      "加わる\n",
      "くわわる\n"
     ]
    }
   ],
   "source": [
    "j1 = found_word.japanese[0]\n",
    "print(j1.word)\n",
    "print(j1.reading)"
   ]
  },
  {
   "cell_type": "markdown",
   "metadata": {},
   "source": [
    "## case: イルカ\n",
    "\n",
    "does this work for other katakana usu kana words?\n",
    "\n",
    "imo, kurage seem to work"
   ]
  },
  {
   "cell_type": "code",
   "execution_count": 23,
   "metadata": {},
   "outputs": [],
   "source": [
    "word = \"イルカ\"\n",
    "response = Word.request(word)"
   ]
  },
  {
   "cell_type": "code",
   "execution_count": 26,
   "metadata": {},
   "outputs": [
    {
     "data": {
      "text/plain": [
       "9"
      ]
     },
     "execution_count": 26,
     "metadata": {},
     "output_type": "execute_result"
    }
   ],
   "source": [
    "len(response.data)"
   ]
  },
  {
   "cell_type": "code",
   "execution_count": 28,
   "metadata": {},
   "outputs": [
    {
     "data": {
      "text/plain": [
       "[WordConfig(slug='海豚', is_common=True, tags=[], jlpt=[], japanese=[Japanese(word='海豚', reading='いるか'), Japanese(word=None, reading='イルカ')], senses=[Sense(english_definitions=['dolphin (or other small toothed whales, incl. porpoises, belugas, etc.)'], parts_of_speech=['Noun'], links=[], tags=['Usually written using kana alone'], restrictions=[], see_also=[], antonyms=[], source=[], info=[]), Sense(english_definitions=['Dolphin'], parts_of_speech=['Wikipedia definition'], links=[Link(text='Read “Dolphin” on English Wikipedia', url=HttpUrl('http://en.wikipedia.org/wiki/Dolphin?oldid=493264358', )), Link(text='Read “イルカ” on Japanese Wikipedia', url=HttpUrl('http://ja.wikipedia.org/wiki/イルカ?oldid=42670219', ))], tags=[], restrictions=[], see_also=[], antonyms=[], source=[], info=[])]),\n",
       " WordConfig(slug='イルカ漁', is_common=False, tags=[], jlpt=[], japanese=[Japanese(word='イルカ漁', reading='イルカりょう'), Japanese(word='イルカ猟', reading='イルカりょう'), Japanese(word='いるか漁', reading='イルカりょう'), Japanese(word='いるか猟', reading='イルカりょう'), Japanese(word='海豚漁', reading='イルカりょう'), Japanese(word='海豚猟', reading='イルカりょう')], senses=[Sense(english_definitions=['dolphin hunting', 'dolphin fishing'], parts_of_speech=['Noun'], links=[], tags=[], restrictions=[], see_also=[], antonyms=[], source=[], info=[])]),\n",
       " WordConfig(slug='イルカンジクラゲ', is_common=False, tags=[], jlpt=[], japanese=[Japanese(word=None, reading='イルカンジクラゲ')], senses=[Sense(english_definitions=['Irukandji jellyfish (Carukia barnesi)'], parts_of_speech=['Noun'], links=[], tags=[], restrictions=[], see_also=[], antonyms=[], source=[], info=[])]),\n",
       " WordConfig(slug='5186a122d5dda7b2c6093dc8', is_common=None, tags=[], jlpt=[], japanese=[Japanese(word='イルカの日', reading=None)], senses=[Sense(english_definitions=['The Day of the Dolphin'], parts_of_speech=['Wikipedia definition'], links=[Link(text='Read “The Day of the Dolphin” on English Wikipedia', url=HttpUrl('http://en.wikipedia.org/wiki/The_Day_of_the_Dolphin?oldid=493114069', )), Link(text='Read “イルカの日” on Japanese Wikipedia', url=HttpUrl('http://ja.wikipedia.org/wiki/イルカの日?oldid=42548185', ))], tags=[], restrictions=[], see_also=[], antonyms=[], source=[], info=[])]),\n",
       " WordConfig(slug='51869e04d5dda7b2c607c39b', is_common=None, tags=[], jlpt=[], japanese=[Japanese(word='イルカ追い込み漁', reading=None)], senses=[Sense(english_definitions=['Dolphin drive hunting'], parts_of_speech=['Wikipedia definition'], links=[Link(text='Read “Dolphin drive hunting” on English Wikipedia', url=HttpUrl('http://en.wikipedia.org/wiki/Dolphin_drive_hunting?oldid=493592582', )), Link(text='Read “イルカ追い込み漁” on Japanese Wikipedia', url=HttpUrl('http://ja.wikipedia.org/wiki/イルカ追い込み漁?oldid=42461686', ))], tags=[], restrictions=[], see_also=[], antonyms=[], source=[], info=[])]),\n",
       " WordConfig(slug='518694b2d5dda7b2c6035bc7', is_common=None, tags=[], jlpt=[], japanese=[Japanese(word='イルカンジ症候群', reading=None)], senses=[Sense(english_definitions=['Irukandji syndrome'], parts_of_speech=['Wikipedia definition'], links=[Link(text='Read “Irukandji syndrome” on English Wikipedia', url=HttpUrl('http://en.wikipedia.org/wiki/Irukandji_syndrome?oldid=480484175', )), Link(text='Read “イルカンジ症候群” on Japanese Wikipedia', url=HttpUrl('http://ja.wikipedia.org/wiki/イルカンジ症候群?oldid=35568575', ))], tags=[], restrictions=[], see_also=[], antonyms=[], source=[], info=[])]),\n",
       " WordConfig(slug='5186962fd5dda7b2c6040fb1', is_common=None, tags=[], jlpt=[], japanese=[Japanese(word='イルカと少年', reading=None)], senses=[Sense(english_definitions=['Zoom the White Dolphin'], parts_of_speech=['Wikipedia definition'], links=[Link(text='Read “Zoom the White Dolphin” on English Wikipedia', url=HttpUrl('http://en.wikipedia.org/wiki/Zoom_the_White_Dolphin?oldid=494266025', )), Link(text='Read “イルカと少年” on Japanese Wikipedia', url=HttpUrl('http://ja.wikipedia.org/wiki/イルカと少年?oldid=40014328', ))], tags=[], restrictions=[], see_also=[], antonyms=[], source=[], info=[])]),\n",
       " WordConfig(slug='5186a089d5dda7b2c608f566', is_common=None, tags=[], jlpt=[], japanese=[Japanese(word='イルカと少年 (映画)', reading=None)], senses=[Sense(english_definitions=['Dolphin Tale'], parts_of_speech=['Wikipedia definition'], links=[Link(text='Read “Dolphin Tale” on English Wikipedia', url=HttpUrl('http://en.wikipedia.org/wiki/Dolphin_Tale?oldid=494791886', )), Link(text='Read “イルカと少年 (映画)” on Japanese Wikipedia', url=HttpUrl('http://ja.wikipedia.org/wiki/イルカと少年_(映画)?oldid=42533198', ))], tags=[], restrictions=[], see_also=[], antonyms=[], source=[], info=[])]),\n",
       " WordConfig(slug='51869f2ad5dda7b2c6084f9e', is_common=None, tags=[], jlpt=[], japanese=[Japanese(word=None, reading='イルカイ・ギュンドアン')], senses=[Sense(english_definitions=['İlkay Gündoğan'], parts_of_speech=['Wikipedia definition'], links=[Link(text='Read “İlkay Gündoğan” on English Wikipedia', url=HttpUrl('http://en.wikipedia.org/wiki/İlkay_Gündoğan?oldid=495443200', )), Link(text='Read “イルカイ・ギュンドアン” on Japanese Wikipedia', url=HttpUrl('http://ja.wikipedia.org/wiki/イルカイ・ギュンドアン?oldid=42781834', ))], tags=[], restrictions=[], see_also=[], antonyms=[], source=[], info=[])])]"
      ]
     },
     "execution_count": 28,
     "metadata": {},
     "output_type": "execute_result"
    }
   ],
   "source": [
    "# looking for: reading that matches the main part???\n",
    "response.data"
   ]
  },
  {
   "cell_type": "code",
   "execution_count": 30,
   "metadata": {},
   "outputs": [
    {
     "data": {
      "text/plain": [
       "True"
      ]
     },
     "execution_count": 30,
     "metadata": {},
     "output_type": "execute_result"
    }
   ],
   "source": [
    "response.data[0].japanese[1].reading == word"
   ]
  },
  {
   "cell_type": "markdown",
   "metadata": {},
   "source": [
    "## INTERESTING CASE: 穢す\n",
    "\n",
    "Just fail these cards and create manually?"
   ]
  },
  {
   "cell_type": "code",
   "execution_count": 58,
   "metadata": {},
   "outputs": [],
   "source": [
    "word = \"自分に自信がない人間は挑戦という行動が苦手になる\"\n",
    "r3 = Word.request(word)"
   ]
  },
  {
   "cell_type": "code",
   "execution_count": 59,
   "metadata": {},
   "outputs": [
    {
     "data": {
      "text/plain": [
       "WordRequest(meta=RequestMeta(status=200), data=[WordConfig(slug='自分', is_common=True, tags=['wanikani5'], jlpt=['jlpt-n5'], japanese=[Japanese(word='自分', reading='じぶん')], senses=[Sense(english_definitions=['myself', 'yourself', 'oneself', 'himself', 'herself'], parts_of_speech=['Pronoun'], links=[], tags=[], restrictions=[], see_also=[], antonyms=[], source=[], info=[]), Sense(english_definitions=['I', 'me'], parts_of_speech=['Pronoun'], links=[], tags=[], restrictions=[], see_also=[], antonyms=[], source=[], info=[]), Sense(english_definitions=['you'], parts_of_speech=['Pronoun'], links=[], tags=['Kansai dialect'], restrictions=[], see_also=[], antonyms=[], source=[], info=[])]), WordConfig(slug='自分自身', is_common=True, tags=[], jlpt=[], japanese=[Japanese(word='自分自身', reading='じぶんじしん')], senses=[Sense(english_definitions=['oneself', 'myself'], parts_of_speech=['Pronoun'], links=[], tags=[], restrictions=[], see_also=[], antonyms=[], source=[], info=[])]), WordConfig(slug='自分のために', is_common=False, tags=[], jlpt=[], japanese=[Japanese(word='自分のために', reading='じぶんのために'), Japanese(word='自分の為に', reading='じぶんのために')], senses=[Sense(english_definitions=['for oneself', \"for one's own sake\", \"on one's own account\"], parts_of_speech=['Expressions (phrases, clauses, etc.)', 'Adverb (fukushi)'], links=[], tags=[], restrictions=[], see_also=['為に'], antonyms=[], source=[], info=[])]), WordConfig(slug='自分の力', is_common=False, tags=[], jlpt=[], japanese=[Japanese(word='自分の力', reading='じぶんのちから')], senses=[Sense(english_definitions=[\"one's own strength or effort\", '(by) oneself'], parts_of_speech=['Expressions (phrases, clauses, etc.)', 'Noun'], links=[], tags=[], restrictions=[], see_also=[], antonyms=[], source=[], info=[])]), WordConfig(slug='自分なり', is_common=False, tags=[], jlpt=[], japanese=[Japanese(word='自分なり', reading='じぶんなり')], senses=[Sense(english_definitions=[\"(in) one's own way\"], parts_of_speech=['Expressions (phrases, clauses, etc.)', \"Noun which may take the genitive case particle 'no'\"], links=[], tags=[], restrictions=[], see_also=['形 なり'], antonyms=[], source=[], info=[])]), WordConfig(slug='自分一人', is_common=False, tags=[], jlpt=[], japanese=[Japanese(word='自分一人', reading='じぶんひとり'), Japanese(word='自分ひとり', reading='じぶんひとり'), Japanese(word='自分独り', reading='じぶんひとり')], senses=[Sense(english_definitions=[\"(on) one's own\", '(by) oneself'], parts_of_speech=['Expressions (phrases, clauses, etc.)', 'Noun'], links=[], tags=[], restrictions=[], see_also=[], antonyms=[], source=[], info=['oft. 〜で'])]), WordConfig(slug='自分本位', is_common=False, tags=[], jlpt=[], japanese=[Japanese(word='自分本位', reading='じぶんほんい')], senses=[Sense(english_definitions=['self-centeredness', 'selfishness', 'egotism', 'egocentricity'], parts_of_speech=['Noun', \"Noun which may take the genitive case particle 'no'\"], links=[], tags=[], restrictions=[], see_also=[], antonyms=[], source=[], info=[])]), WordConfig(slug='自分で', is_common=True, tags=[], jlpt=[], japanese=[Japanese(word='自分で', reading='じぶんで')], senses=[Sense(english_definitions=['by myself', 'in person', 'by oneself'], parts_of_speech=['Expressions (phrases, clauses, etc.)'], links=[], tags=[], restrictions=[], see_also=[], antonyms=[], source=[], info=[])]), WordConfig(slug='自分勝手', is_common=False, tags=[], jlpt=[], japanese=[Japanese(word='自分勝手', reading='じぶんかって'), Japanese(word='自分かって', reading='じぶんかって'), Japanese(word='自分勝手', reading='じぶんがって')], senses=[Sense(english_definitions=['selfishness', 'egotism', 'egoism', '(being) self-centered', 'without consulting', '(doing) as one pleases', \"one's own free will\"], parts_of_speech=['Noun', 'Na-adjective (keiyodoshi)'], links=[], tags=['Yojijukugo (four character compound)'], restrictions=[], see_also=[], antonyms=[], source=[], info=[])]), WordConfig(slug='自分でも', is_common=False, tags=[], jlpt=[], japanese=[Japanese(word='自分でも', reading='じぶんでも')], senses=[Sense(english_definitions=['I, myself', 'one-self', 'by one-self'], parts_of_speech=['Expressions (phrases, clauses, etc.)'], links=[], tags=[], restrictions=[], see_also=[], antonyms=[], source=[], info=[]), Sense(english_definitions=['even I', 'even one'], parts_of_speech=['Expressions (phrases, clauses, etc.)'], links=[], tags=[], restrictions=[], see_also=[], antonyms=[], source=[], info=[])]), WordConfig(slug='自分の首を絞める', is_common=False, tags=[], jlpt=[], japanese=[Japanese(word='自分の首を絞める', reading='じぶんのくびをしめる'), Japanese(word='自分の首を締める', reading='じぶんのくびをしめる')], senses=[Sense(english_definitions=[\"to cut one's own throat\", \"to dig one's own grave\", 'to cause oneself harm', 'to bring ruin on oneself'], parts_of_speech=['Expressions (phrases, clauses, etc.)', 'Ichidan verb'], links=[], tags=['Idiomatic expression'], restrictions=[], see_also=[], antonyms=[], source=[], info=[])]), WordConfig(slug='自分探し', is_common=False, tags=[], jlpt=[], japanese=[Japanese(word='自分探し', reading='じぶんさがし')], senses=[Sense(english_definitions=['finding oneself', 'self-discovery', 'journey of self-discovery', 'search for self'], parts_of_speech=['Noun'], links=[], tags=[], restrictions=[], see_also=[], antonyms=[], source=[], info=[])]), WordConfig(slug='自分史', is_common=False, tags=[], jlpt=[], japanese=[Japanese(word='自分史', reading='じぶんし')], senses=[Sense(english_definitions=['personal history'], parts_of_speech=['Noun'], links=[], tags=[], restrictions=[], see_also=[], antonyms=[], source=[], info=[])]), WordConfig(slug='自分持ち', is_common=False, tags=[], jlpt=[], japanese=[Japanese(word='自分持ち', reading='じぶんもち')], senses=[Sense(english_definitions=['paying for oneself', \"(at) one's own expense\"], parts_of_speech=['Noun', 'Suru verb'], links=[], tags=[], restrictions=[], see_also=['自弁'], antonyms=[], source=[], info=[])]), WordConfig(slug='自分事', is_common=False, tags=[], jlpt=[], japanese=[Japanese(word='自分事', reading='じぶんごと'), Japanese(word='自分ごと', reading='じぶんごと')], senses=[Sense(english_definitions=[\"one's own problem\", \"one's own issues\"], parts_of_speech=['Noun'], links=[], tags=['Colloquial'], restrictions=[], see_also=[], antonyms=['他人事'], source=[], info=[])]), WordConfig(slug='自分撮り', is_common=False, tags=[], jlpt=[], japanese=[Japanese(word='自分撮り', reading='じぶんどり')], senses=[Sense(english_definitions=['taking a picture or video of oneself'], parts_of_speech=['Noun', 'Suru verb'], links=[], tags=[], restrictions=[], see_also=['自撮り'], antonyms=[], source=[], info=[])]), WordConfig(slug='自分中心', is_common=False, tags=[], jlpt=[], japanese=[Japanese(word='自分中心', reading='じぶんちゅうしん')], senses=[Sense(english_definitions=['self-centered', 'stuck on oneself'], parts_of_speech=[\"Noun which may take the genitive case particle 'no'\"], links=[], tags=[], restrictions=[], see_also=[], antonyms=[], source=[], info=[])]), WordConfig(slug='自分らしい', is_common=False, tags=[], jlpt=[], japanese=[Japanese(word='自分らしい', reading='じぶんらしい')], senses=[Sense(english_definitions=['characteristic', 'like oneself', 'worthy of oneself'], parts_of_speech=['Expressions (phrases, clauses, etc.)', 'I-adjective (keiyoushi)'], links=[], tags=[], restrictions=[], see_also=[], antonyms=[], source=[], info=[])]), WordConfig(slug='自分時間', is_common=False, tags=[], jlpt=[], japanese=[Japanese(word='自分時間', reading='じぶんじかん')], senses=[Sense(english_definitions=['me-time', 'time one has to oneself'], parts_of_speech=['Noun'], links=[], tags=[], restrictions=[], see_also=[], antonyms=[], source=[], info=[])]), WordConfig(slug='自分らしさ', is_common=False, tags=[], jlpt=[], japanese=[Japanese(word='自分らしさ', reading='じぶんらしさ')], senses=[Sense(english_definitions=['individuality', 'personality', 'sense of oneself'], parts_of_speech=['Noun'], links=[], tags=[], restrictions=[], see_also=[], antonyms=[], source=[], info=[])])])"
      ]
     },
     "execution_count": 59,
     "metadata": {},
     "output_type": "execute_result"
    }
   ],
   "source": [
    "r3"
   ]
  },
  {
   "cell_type": "code",
   "execution_count": 33,
   "metadata": {},
   "outputs": [
    {
     "ename": "NameError",
     "evalue": "name 'r3' is not defined",
     "output_type": "error",
     "traceback": [
      "\u001b[1;31m---------------------------------------------------------------------------\u001b[0m",
      "\u001b[1;31mNameError\u001b[0m                                 Traceback (most recent call last)",
      "Cell \u001b[1;32mIn[33], line 1\u001b[0m\n\u001b[1;32m----> 1\u001b[0m wc \u001b[38;5;241m=\u001b[39m \u001b[43mr3\u001b[49m\u001b[38;5;241m.\u001b[39mdata[\u001b[38;5;241m0\u001b[39m]\n\u001b[0;32m      2\u001b[0m \u001b[38;5;28mprint\u001b[39m(wc\u001b[38;5;241m.\u001b[39mjapanese)\n\u001b[0;32m      3\u001b[0m \u001b[38;5;28mprint\u001b[39m(wc\u001b[38;5;241m.\u001b[39msenses)\n",
      "\u001b[1;31mNameError\u001b[0m: name 'r3' is not defined"
     ]
    }
   ],
   "source": [
    "wc = r3.data[0]\n",
    "print(wc.japanese)\n",
    "print(wc.senses)"
   ]
  },
  {
   "cell_type": "markdown",
   "metadata": {},
   "source": [
    "## CREATE CARD"
   ]
  },
  {
   "cell_type": "code",
   "execution_count": 40,
   "metadata": {},
   "outputs": [],
   "source": [
    "def create_furigana(word, reading):\n",
    "    return \"{}[{}]\".format(word, reading)"
   ]
  },
  {
   "cell_type": "code",
   "execution_count": 41,
   "metadata": {},
   "outputs": [],
   "source": [
    "def create_meaning(meanings):\n",
    "    meaning_field = []\n",
    "    for definition in meanings:\n",
    "        defs = []\n",
    "        for word in definition.english_definitions:\n",
    "            defs.append(word)\n",
    "            # print(word)\n",
    "        one_def = \" \".join(defs)\n",
    "        meaning_field.append(one_def)\n",
    "    return \"\\n\".join(meaning_field)"
   ]
  },
  {
   "cell_type": "code",
   "execution_count": 42,
   "metadata": {},
   "outputs": [],
   "source": [
    "def create_card(word):\n",
    "    print(\"Creating card for:\", word)\n",
    "    response = Word.request(word)\n",
    "    word_info = None\n",
    "    for item in response.data:\n",
    "        if item.slug == word:\n",
    "            word_info = item\n",
    "\n",
    "    card = {}\n",
    "    card[\"Word\"] = word_info.slug\n",
    "    card[\"Furigana\"] = create_furigana(word_info.japanese[0].word, word_info.japanese[0].reading)\n",
    "    card[\"Meaning\"] = create_meaning(word_info.senses)\n",
    "    return card"
   ]
  },
  {
   "cell_type": "code",
   "execution_count": 43,
   "metadata": {},
   "outputs": [
    {
     "name": "stdout",
     "output_type": "stream",
     "text": [
      "Creating card for: 水\n"
     ]
    },
    {
     "data": {
      "text/plain": [
       "{'Word': '水',\n",
       " 'Furigana': '水[みず]',\n",
       " 'Meaning': 'water (esp. cool, fresh water, e.g. drinking water)\\nfluid (esp. in an animal tissue) liquid\\nflood floodwaters\\nwater offered to wrestlers just prior to a bout\\nbreak granted to wrestlers engaged in a prolonged bout\\nWater'}"
      ]
     },
     "execution_count": 43,
     "metadata": {},
     "output_type": "execute_result"
    }
   ],
   "source": [
    "new_card = create_card('水')\n",
    "new_card"
   ]
  },
  {
   "cell_type": "code",
   "execution_count": 44,
   "metadata": {},
   "outputs": [
    {
     "name": "stdout",
     "output_type": "stream",
     "text": [
      "Creating card for: 面前\n"
     ]
    },
    {
     "data": {
      "text/plain": [
       "{'Word': '面前',\n",
       " 'Furigana': '面前[めんぜん]',\n",
       " 'Meaning': '(in the) presence (of) in front (of) before (someone)'}"
      ]
     },
     "execution_count": 44,
     "metadata": {},
     "output_type": "execute_result"
    }
   ],
   "source": [
    "new_card = create_card('面前')\n",
    "new_card"
   ]
  },
  {
   "cell_type": "markdown",
   "metadata": {},
   "source": [
    "Mass Create Cards"
   ]
  },
  {
   "cell_type": "code",
   "execution_count": 163,
   "metadata": {},
   "outputs": [
    {
     "name": "stdout",
     "output_type": "stream",
     "text": [
      "股間\n",
      "Creating card for: 股間\n",
      "鷲\n",
      "Creating card for: 鷲\n",
      "面前\n",
      "Creating card for: 面前\n",
      "穢す\n",
      "Creating card for: 穢す\n",
      "'NoneType' object has no attribute 'slug'\n",
      "視姦\n",
      "Creating card for: 視姦\n",
      "陵辱\n",
      "Creating card for: 陵辱\n",
      "素行\n",
      "Creating card for: 素行\n",
      "れっき\n",
      "Creating card for: れっき\n",
      "'NoneType' object has no attribute 'slug'\n",
      "昂ぶり\n",
      "Creating card for: 昂ぶり\n",
      "'NoneType' object has no attribute 'slug'\n",
      "矮小\n",
      "Creating card for: 矮小\n",
      "畏敬\n",
      "Creating card for: 畏敬\n",
      "呪文\n",
      "Creating card for: 呪文\n",
      "ぞんざい\n",
      "Creating card for: ぞんざい\n",
      "寄越せ\n",
      "Creating card for: 寄越せ\n",
      "'NoneType' object has no attribute 'slug'\n",
      "憑く\n",
      "Creating card for: 憑く\n",
      "焦れる\n",
      "Creating card for: 焦れる\n",
      "オンチ\n",
      "Creating card for: オンチ\n",
      "'NoneType' object has no attribute 'slug'\n",
      "秘境\n",
      "Creating card for: 秘境\n",
      "拝む\n",
      "Creating card for: 拝む\n",
      "合掌\n",
      "Creating card for: 合掌\n"
     ]
    }
   ],
   "source": [
    "new_cards = []\n",
    "failed_cards = []\n",
    "with open(\"input.txt\", \"r\", encoding=\"utf8\") as file:\n",
    "    for line in file:\n",
    "        word = line.split()[0]\n",
    "        print(word)\n",
    "        if line.rstrip(): # skip empty lines\n",
    "            try:\n",
    "                new_card = create_card(word)\n",
    "            except Exception as e:\n",
    "                new_card = None\n",
    "                failed_cards.append(word)\n",
    "                print(e)\n",
    "            if new_card:\n",
    "                new_cards.append(new_card)\n",
    "            # print(line)"
   ]
  },
  {
   "cell_type": "code",
   "execution_count": 154,
   "metadata": {},
   "outputs": [
    {
     "data": {
      "text/plain": [
       "14"
      ]
     },
     "execution_count": 154,
     "metadata": {},
     "output_type": "execute_result"
    }
   ],
   "source": [
    "len(new_cards)"
   ]
  },
  {
   "cell_type": "code",
   "execution_count": 164,
   "metadata": {},
   "outputs": [
    {
     "data": {
      "text/plain": [
       "[{'Word': '股間',\n",
       "  'Furigana': '股間[こかん]',\n",
       "  'Meaning': 'crotch groin area between the thighs'},\n",
       " {'Word': '鷲',\n",
       "  'Furigana': '鷲[わし]',\n",
       "  'Meaning': 'eagle (Accipitridae family)\\nEagle'},\n",
       " {'Word': '面前',\n",
       "  'Furigana': '面前[めんぜん]',\n",
       "  'Meaning': '(in the) presence (of) in front (of) before (someone)'},\n",
       " {'Word': '視姦',\n",
       "  'Furigana': '視姦[しかん]',\n",
       "  'Meaning': 'ogling eyeing (lecherously) leering staring'},\n",
       " {'Word': '陵辱',\n",
       "  'Furigana': '陵辱[りょうじょく]',\n",
       "  'Meaning': 'insult affront disgrace indignity\\nsexual assault rape'},\n",
       " {'Word': '素行',\n",
       "  'Furigana': '素行[そこう]',\n",
       "  'Meaning': 'behaviour behavior conduct'},\n",
       " {'Word': '矮小',\n",
       "  'Furigana': '矮小[わいしょう]',\n",
       "  'Meaning': 'diminutive dwarfish pygmy stunted undersized\\nnarrow (e.g. thinking) small'},\n",
       " {'Word': '畏敬', 'Furigana': '畏敬[いけい]', 'Meaning': 'reverence awe respect'},\n",
       " {'Word': '呪文',\n",
       "  'Furigana': '呪文[じゅもん]',\n",
       "  'Meaning': 'spell charm incantation magic word\\nMagic word'},\n",
       " {'Word': 'ぞんざい',\n",
       "  'Furigana': 'None[ぞんざい]',\n",
       "  'Meaning': 'rough careless slovenly slipshod rude impolite'},\n",
       " {'Word': '憑く', 'Furigana': '憑く[つく]', 'Meaning': 'to possess to haunt'},\n",
       " {'Word': '焦れる',\n",
       "  'Furigana': '焦れる[じれる]',\n",
       "  'Meaning': 'to get impatient to become irritated to fret to chafe'},\n",
       " {'Word': '秘境',\n",
       "  'Furigana': '秘境[ひきょう]',\n",
       "  'Meaning': 'unexplored region secluded region place off the beaten track'},\n",
       " {'Word': '拝む',\n",
       "  'Furigana': '拝む[おがむ]',\n",
       "  'Meaning': \"to assume the posture of praying to press the palms and fingers of both hands together to do reverence (e.g. before a statue of the Buddha) to pay one's respects\\nto beg to make a supplication\\nto see (something or someone of high status)\"},\n",
       " {'Word': '合掌',\n",
       "  'Furigana': '合掌[がっしょう]',\n",
       "  'Meaning': \"pressing one's hands together in prayer\\ntriangular frame of a thatched roof\\nyours sincerely yours truly sincerely yours\\nNamaste\"}]"
      ]
     },
     "execution_count": 164,
     "metadata": {},
     "output_type": "execute_result"
    }
   ],
   "source": [
    "new_cards"
   ]
  },
  {
   "cell_type": "code",
   "execution_count": 156,
   "metadata": {},
   "outputs": [
    {
     "data": {
      "text/plain": [
       "['穢す', 'れっき', '昂ぶり', '寄越せ', '焦れる,', 'オンチ']"
      ]
     },
     "execution_count": 156,
     "metadata": {},
     "output_type": "execute_result"
    }
   ],
   "source": [
    "failed_cards"
   ]
  },
  {
   "cell_type": "code",
   "execution_count": 168,
   "metadata": {},
   "outputs": [
    {
     "name": "stdout",
     "output_type": "stream",
     "text": [
      "Creating card for: れっき\n"
     ]
    },
    {
     "ename": "AttributeError",
     "evalue": "'NoneType' object has no attribute 'slug'",
     "output_type": "error",
     "traceback": [
      "\u001b[1;31m---------------------------------------------------------------------------\u001b[0m",
      "\u001b[1;31mAttributeError\u001b[0m                            Traceback (most recent call last)",
      "Cell \u001b[1;32mIn[168], line 1\u001b[0m\n\u001b[1;32m----> 1\u001b[0m \u001b[39mprint\u001b[39m(create_card(\u001b[39m'\u001b[39;49m\u001b[39mれっき\u001b[39;49m\u001b[39m'\u001b[39;49m))\n",
      "Cell \u001b[1;32mIn[138], line 11\u001b[0m, in \u001b[0;36mcreate_card\u001b[1;34m(word)\u001b[0m\n\u001b[0;32m      8\u001b[0m \u001b[39m# print(word_info)\u001b[39;00m\n\u001b[0;32m     10\u001b[0m card \u001b[39m=\u001b[39m {}\n\u001b[1;32m---> 11\u001b[0m card[\u001b[39m\"\u001b[39m\u001b[39mWord\u001b[39m\u001b[39m\"\u001b[39m] \u001b[39m=\u001b[39m word_info\u001b[39m.\u001b[39;49mslug\n\u001b[0;32m     12\u001b[0m card[\u001b[39m\"\u001b[39m\u001b[39mFurigana\u001b[39m\u001b[39m\"\u001b[39m] \u001b[39m=\u001b[39m create_furigana(word_info\u001b[39m.\u001b[39mjapanese[\u001b[39m0\u001b[39m]\u001b[39m.\u001b[39mword, word_info\u001b[39m.\u001b[39mjapanese[\u001b[39m0\u001b[39m]\u001b[39m.\u001b[39mreading)\n\u001b[0;32m     13\u001b[0m card[\u001b[39m\"\u001b[39m\u001b[39mMeaning\u001b[39m\u001b[39m\"\u001b[39m] \u001b[39m=\u001b[39m create_meaning(word_info\u001b[39m.\u001b[39msenses)\n",
      "\u001b[1;31mAttributeError\u001b[0m: 'NoneType' object has no attribute 'slug'"
     ]
    }
   ],
   "source": [
    "print(create_card('れっき'))"
   ]
  },
  {
   "cell_type": "code",
   "execution_count": null,
   "metadata": {},
   "outputs": [],
   "source": []
  },
  {
   "cell_type": "markdown",
   "metadata": {},
   "source": [
    "# Tokenize"
   ]
  },
  {
   "cell_type": "code",
   "execution_count": 1,
   "metadata": {},
   "outputs": [],
   "source": [
    "from jisho_api.tokenize import Tokens"
   ]
  },
  {
   "cell_type": "code",
   "execution_count": 2,
   "metadata": {},
   "outputs": [],
   "source": [
    "sentence = \"あたしもけっこーアニメ見るし鬼滅とか呪術とかチェンソーとか\"\n",
    "response = Tokens.request(sentence)"
   ]
  },
  {
   "cell_type": "code",
   "execution_count": 6,
   "metadata": {},
   "outputs": [
    {
     "data": {
      "text/plain": [
       "{'meta': ModelField(name='meta', type=RequestMeta, required=True),\n",
       " 'data': ModelField(name='data', type=List[TokenConfig], required=True)}"
      ]
     },
     "execution_count": 6,
     "metadata": {},
     "output_type": "execute_result"
    }
   ],
   "source": [
    "response.__fields__"
   ]
  },
  {
   "cell_type": "code",
   "execution_count": 9,
   "metadata": {},
   "outputs": [
    {
     "data": {
      "text/plain": [
       "[TokenConfig(token='あたし', pos_tag=<PosTag.pron: 'Pronoun'>),\n",
       " TokenConfig(token='も', pos_tag=<PosTag.particle: 'Particle'>),\n",
       " TokenConfig(token='けっ', pos_tag=<PosTag.verb: 'Verb'>),\n",
       " TokenConfig(token='こ', pos_tag=<PosTag.prfx: 'Prefix'>),\n",
       " TokenConfig(token='ーアニメ', pos_tag=<PosTag.noun: 'Noun'>),\n",
       " TokenConfig(token='見る', pos_tag=<PosTag.verb: 'Verb'>),\n",
       " TokenConfig(token='し', pos_tag=<PosTag.particle: 'Particle'>),\n",
       " TokenConfig(token='鬼滅', pos_tag=<PosTag.noun: 'Noun'>),\n",
       " TokenConfig(token='とか', pos_tag=<PosTag.particle: 'Particle'>),\n",
       " TokenConfig(token='呪術', pos_tag=<PosTag.noun: 'Noun'>),\n",
       " TokenConfig(token='とか', pos_tag=<PosTag.particle: 'Particle'>),\n",
       " TokenConfig(token='チェンソー', pos_tag=<PosTag.noun: 'Noun'>),\n",
       " TokenConfig(token='とか', pos_tag=<PosTag.particle: 'Particle'>)]"
      ]
     },
     "execution_count": 9,
     "metadata": {},
     "output_type": "execute_result"
    }
   ],
   "source": [
    "response.data"
   ]
  },
  {
   "cell_type": "code",
   "execution_count": null,
   "metadata": {},
   "outputs": [],
   "source": []
  },
  {
   "cell_type": "markdown",
   "metadata": {},
   "source": [
    "# Sentence"
   ]
  },
  {
   "cell_type": "code",
   "execution_count": 10,
   "metadata": {},
   "outputs": [],
   "source": [
    "from jisho_api.sentence import Sentence"
   ]
  },
  {
   "cell_type": "code",
   "execution_count": 11,
   "metadata": {},
   "outputs": [],
   "source": [
    "word = \"呪術\"\n",
    "response = Sentence.request(word)"
   ]
  },
  {
   "cell_type": "code",
   "execution_count": 14,
   "metadata": {},
   "outputs": [
    {
     "data": {
      "text/plain": [
       "1"
      ]
     },
     "execution_count": 14,
     "metadata": {},
     "output_type": "execute_result"
    }
   ],
   "source": [
    "len(response.data)"
   ]
  },
  {
   "cell_type": "code",
   "execution_count": 16,
   "metadata": {},
   "outputs": [
    {
     "data": {
      "text/plain": [
       "{'japanese': ModelField(name='japanese', type=str, required=True),\n",
       " 'en_translation': ModelField(name='en_translation', type=str, required=True)}"
      ]
     },
     "execution_count": 16,
     "metadata": {},
     "output_type": "execute_result"
    }
   ],
   "source": [
    "response.data[0].__fields__"
   ]
  },
  {
   "cell_type": "code",
   "execution_count": 17,
   "metadata": {},
   "outputs": [
    {
     "data": {
      "text/plain": [
       "'呪術(じゅじゅつ)は未開社会(みかいしゃかい)においては重要な(じゅうよう)役割(やくわり)をもつ'"
      ]
     },
     "execution_count": 17,
     "metadata": {},
     "output_type": "execute_result"
    }
   ],
   "source": [
    "response.data[0].japanese"
   ]
  },
  {
   "cell_type": "code",
   "execution_count": 20,
   "metadata": {},
   "outputs": [
    {
     "data": {
      "text/html": [
       "<pre style=\"white-space:pre;overflow-x:auto;line-height:normal;font-family:Menlo,'DejaVu Sans Mono',consolas,'Courier New',monospace\"><span style=\"color: #800000; text-decoration-color: #800000; font-weight: bold\">[Error] </span><span style=\"color: #c0c0c0; text-decoration-color: #c0c0c0; font-weight: bold\"> No matches found for 炸裂.</span>\n",
       "</pre>\n"
      ],
      "text/plain": [
       "\u001b[1;31m[\u001b[0m\u001b[1;31mError\u001b[0m\u001b[1;31m]\u001b[0m\u001b[1;31m \u001b[0m\u001b[1;37m No matches found for 炸裂.\u001b[0m\n"
      ]
     },
     "metadata": {},
     "output_type": "display_data"
    }
   ],
   "source": [
    "word2 = \"炸裂\"\n",
    "try:\n",
    "    response2 = Sentence.request(word2)\n",
    "except Exception as e:\n",
    "    pass"
   ]
  },
  {
   "cell_type": "code",
   "execution_count": null,
   "metadata": {},
   "outputs": [],
   "source": []
  }
 ],
 "metadata": {
  "kernelspec": {
   "display_name": "Python 3",
   "language": "python",
   "name": "python3"
  },
  "language_info": {
   "codemirror_mode": {
    "name": "ipython",
    "version": 3
   },
   "file_extension": ".py",
   "mimetype": "text/x-python",
   "name": "python",
   "nbconvert_exporter": "python",
   "pygments_lexer": "ipython3",
   "version": "3.8.10"
  },
  "orig_nbformat": 4
 },
 "nbformat": 4,
 "nbformat_minor": 2
}
