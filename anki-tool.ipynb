{
 "cells": [
  {
   "cell_type": "code",
   "execution_count": 1,
   "metadata": {},
   "outputs": [
    {
     "name": "stdout",
     "output_type": "stream",
     "text": [
      "Hello World\n"
     ]
    }
   ],
   "source": [
    "print(\"Hello World\")"
   ]
  },
  {
   "cell_type": "markdown",
   "metadata": {},
   "source": [
    "# Anki Connect API Integration"
   ]
  },
  {
   "cell_type": "code",
   "execution_count": 2,
   "metadata": {},
   "outputs": [],
   "source": [
    "import json\n",
    "import urllib.request\n",
    "\n",
    "def request(action, **params):\n",
    "    return {'action': action, 'params': params, 'version': 6}\n",
    "\n",
    "def invoke(action, debug=False, **params):\n",
    "    requestJson = json.dumps(request(action, **params)).encode('utf-8')\n",
    "    if debug: \n",
    "        print(requestJson)\n",
    "    response = json.load(urllib.request.urlopen(urllib.request.Request('http://localhost:8765', requestJson)))\n",
    "    if debug: \n",
    "        print(response)\n",
    "    if len(response) != 2:\n",
    "        raise Exception('response has an unexpected number of fields')\n",
    "    if 'error' not in response:\n",
    "        raise Exception('response is missing required error field')\n",
    "    if 'result' not in response:\n",
    "        raise Exception('response is missing required result field')\n",
    "    if response['error'] is not None:\n",
    "        raise Exception(response['error'])\n",
    "    return response['result']"
   ]
  },
  {
   "attachments": {},
   "cell_type": "markdown",
   "metadata": {},
   "source": [
    "above is from https://foosoft.net/projects/anki-connect/\n",
    "\n",
    "also: https://github.com/FooSoft/anki-connect/blob/master/plugin/__init__.py\n",
    "\n",
    "\n",
    "Want: move \"to learn\" or \"easy\" to front of queue, or set specific interval to skip \"learning\" phase\n",
    "\n",
    "see: `setSpecificValueOfCard`\n",
    "\n",
    "important card fields: \n",
    "- type=2 (review)\n",
    "- queue=2 (review)\n",
    "- due or ivl ???"
   ]
  },
  {
   "attachments": {},
   "cell_type": "markdown",
   "metadata": {},
   "source": [
    "# Using API"
   ]
  },
  {
   "cell_type": "markdown",
   "metadata": {},
   "source": [
    "### Experiments"
   ]
  },
  {
   "cell_type": "code",
   "execution_count": 3,
   "metadata": {},
   "outputs": [
    {
     "name": "stdout",
     "output_type": "stream",
     "text": [
      "got list of decks: ['-exp', '-exp::anki-connect-test', '-exp::kanji-font-test', '...', 'backlog', 'nhg', 'nhg::1kanji', 'nhg::1kanji::common', 'nhg::1kanji::topic', 'nhg::2bunpou', 'nhg::3vocab', 'nhg::3vocab::auto-unsorted', 'nhg::3vocab::common', 'nhg::3vocab::topic', 'nhg::3vocab::unneeded', 'nhg::3vocab::Vocab Backlog']\n"
     ]
    }
   ],
   "source": [
    "# Get Deck Names\n",
    "result = invoke('deckNames')\n",
    "print('got list of decks: {}'.format(result))\n",
    "# Error if anki closed: URLError: <urlopen error [WinError 10061] No connection could be made because the target machine actively refused it>"
   ]
  },
  {
   "cell_type": "code",
   "execution_count": 4,
   "metadata": {},
   "outputs": [],
   "source": [
    "# findCards is identical to guiBrowse (meaning we can use gui queries here)\n",
    "# query = \"deck:nhg Kanji:日\"\n",
    "# query = \"deck:nhg::1kanji\"\n",
    "\n",
    "# query = \"deck:nhg::3vocab\"\n",
    "query = \"deck:-exp::anki-connect-test\"\n",
    "search_result = invoke(\"findCards\", query=query)"
   ]
  },
  {
   "cell_type": "code",
   "execution_count": 5,
   "metadata": {},
   "outputs": [],
   "source": [
    "# cardsInfo\n",
    "# cards = search_result\n",
    "cards = [1452224262134]\n",
    "card_info = invoke(\"cardsInfo\", cards=cards)\n",
    "# takes 5 seconds for KANJI deck, takes 15 seconds for VOCAB deck"
   ]
  },
  {
   "cell_type": "code",
   "execution_count": 6,
   "metadata": {},
   "outputs": [
    {
     "data": {
      "text/plain": [
       "dict_keys(['cardId', 'fields', 'fieldOrder', 'question', 'answer', 'modelName', 'ord', 'deckName', 'css', 'factor', 'interval', 'note', 'type', 'queue', 'due', 'reps', 'lapses', 'left', 'mod'])"
      ]
     },
     "execution_count": 6,
     "metadata": {},
     "output_type": "execute_result"
    }
   ],
   "source": [
    "card_info[0].keys()\n",
    "# important: fields, interval, queue, due"
   ]
  },
  {
   "cell_type": "code",
   "execution_count": 7,
   "metadata": {},
   "outputs": [
    {
     "name": "stdout",
     "output_type": "stream",
     "text": [
      "cardId: 1452224262134\n",
      "interval: 0\n",
      "queue: 0\n",
      "type:  0\n",
      "due: 3781\n",
      "deckName: nhg::3vocab::unneeded\n",
      "vocab: 改める\n",
      "type:  dict_keys(['cardId', 'fields', 'fieldOrder', 'question', 'answer', 'modelName', 'ord', 'deckName', 'css', 'factor', 'interval', 'note', 'type', 'queue', 'due', 'reps', 'lapses', 'left', 'mod'])\n"
     ]
    }
   ],
   "source": [
    "# print(card_info)\n",
    "print(\"cardId:\", card_info[0][\"cardId\"])\n",
    "print(\"interval:\", card_info[0][\"interval\"])\n",
    "print(\"queue:\", card_info[0][\"queue\"])\n",
    "print(\"type: \", card_info[0][\"type\"])\n",
    "print(\"due:\", card_info[0][\"due\"])\n",
    "print(\"deckName:\", card_info[0][\"deckName\"])\n",
    "print(\"vocab:\", card_info[0][\"fields\"][\"Word\"][\"value\"])\n",
    "print(\"type: \", card_info[0].keys())\n",
    "# print(\"kanji:\", card_info[0][\"fields\"][\"Kanji\"][\"value\"])"
   ]
  },
  {
   "cell_type": "markdown",
   "metadata": {},
   "source": [
    "# new card workflow"
   ]
  },
  {
   "cell_type": "markdown",
   "metadata": {},
   "source": [
    "### addNote "
   ]
  },
  {
   "cell_type": "code",
   "execution_count": 8,
   "metadata": {},
   "outputs": [],
   "source": [
    "from jisho_api.word import Word"
   ]
  },
  {
   "cell_type": "code",
   "execution_count": 9,
   "metadata": {},
   "outputs": [],
   "source": [
    "def create_furigana(word, reading):\n",
    "    return \"{}[{}]\".format(word, reading)\n",
    "\n",
    "\n",
    "def create_meaning(meanings):\n",
    "    meaning_field = []\n",
    "    for definition in meanings:\n",
    "        defs = []\n",
    "        for word in definition.english_definitions:\n",
    "            defs.append(word)\n",
    "            # print(word)\n",
    "        one_def = \", \".join(defs)\n",
    "        meaning_field.append(one_def)\n",
    "    return f\" (*) \".join(meaning_field)"
   ]
  },
  {
   "cell_type": "code",
   "execution_count": 10,
   "metadata": {},
   "outputs": [],
   "source": [
    "# deckName = \"-exp::anki-connect-test\"\n",
    "DECK_NAME = \"nhg::3vocab::auto-unsorted\"\n",
    "NOTE_MODEL_NAME = \"2-Vocab\"\n",
    "\n",
    "class DuplicateNoteException(Exception):\n",
    "    pass\n",
    "\n",
    "def create_note(word, allow_same=True, deck_name=DECK_NAME, generate=True):\n",
    "    \"\"\"\n",
    "    -4 - ConnectionError\n",
    "    -3 - Not in Jisho\n",
    "    -2 - No exact match\n",
    "    -1 - unknown error\n",
    "    0 - duplicate\n",
    "    else: card_id integer\n",
    "    \"\"\"\n",
    "    note = dict()\n",
    "    note[\"deckName\"] = deck_name\n",
    "    note[\"modelName\"] = NOTE_MODEL_NAME\n",
    "    note[\"tags\"] = [\"autocreated\"]\n",
    "\n",
    "\n",
    "    print(\"Creating card for:\", word)\n",
    "    fields = {}\n",
    "    if generate:\n",
    "        try:\n",
    "            response = Word.request(word)#, cache=True)\n",
    "        except ConnectionError as ce:\n",
    "            print(\"ConnectionError Jisho\")\n",
    "            # TODO: implement retry here\n",
    "            return -4\n",
    "        if not response:\n",
    "            print(\"Not in Jisho\")\n",
    "            return -3\n",
    "        \n",
    "        # Exclude same meaning verbs diff kanji?\n",
    "        ind = None\n",
    "        if allow_same:\n",
    "            for i in range(len(response.data)):\n",
    "                entry = response.data[i]\n",
    "                for j in range(len(entry.japanese)):\n",
    "                    if word == entry.japanese[j].word:\n",
    "                        ind = dict()\n",
    "                        ind[\"i\"] = i\n",
    "                        ind[\"j\"] = j\n",
    "                        ind[\"Word\"] = entry.japanese[j].word\n",
    "                    elif word == entry.japanese[j].reading:\n",
    "                        ind = dict()\n",
    "                        ind[\"i\"] = i\n",
    "                        ind[\"j\"] = j\n",
    "                        ind[\"Word\"] = entry.japanese[j].reading\n",
    "                    # entry.japanese[j].reading\n",
    "        else:\n",
    "            return -1\n",
    "        if not ind:\n",
    "            print(\"No exact match\")\n",
    "            return -2\n",
    "\n",
    "        # Fill in fields\n",
    "        fields[\"Word\"] = ind[\"Word\"]\n",
    "        fields[\"Furigana\"] = create_furigana(\n",
    "            response.data[ind[\"i\"]].japanese[ind[\"j\"]].word, \n",
    "            response.data[ind[\"i\"]].japanese[ind[\"j\"]].reading\n",
    "        )\n",
    "\n",
    "        meaning = create_meaning(response.data[ind[\"i\"]].senses)\n",
    "        print(meaning)\n",
    "        fields[\"Meaning\"] = meaning\n",
    "    else:\n",
    "        # Fill in word only\n",
    "        fields[\"Word\"] = word\n",
    "\n",
    "\n",
    "    note[\"fields\"] = fields\n",
    "\n",
    "    # try/accept\n",
    "    try:\n",
    "        result = invoke(\"addNote\", note=note)\n",
    "    except Exception as e:\n",
    "        if str(e) == \"cannot create note because it is a duplicate\":\n",
    "            print(\"Cannot create note because it is duplicate\")\n",
    "            return 0\n",
    "        else:\n",
    "            raise\n",
    "\n",
    "    return result\n"
   ]
  },
  {
   "cell_type": "code",
   "execution_count": 11,
   "metadata": {},
   "outputs": [],
   "source": [
    "# result = create_note(\"覇権\", deck_name=\"-exp::anki-connect-test\")\n",
    "# print(result) # result is card number\n",
    "# 覇権 has 4 slugs"
   ]
  },
  {
   "cell_type": "markdown",
   "metadata": {},
   "source": [
    "### Word -> cardId\n"
   ]
  },
  {
   "cell_type": "code",
   "execution_count": 12,
   "metadata": {},
   "outputs": [],
   "source": [
    "query = \"deck:-exp::anki-connect-test Word:じ\"\n",
    "search_result = invoke(\"findCards\", query=query)"
   ]
  },
  {
   "cell_type": "code",
   "execution_count": 13,
   "metadata": {},
   "outputs": [
    {
     "data": {
      "text/plain": [
       "1706417082027"
      ]
     },
     "execution_count": 13,
     "metadata": {},
     "output_type": "execute_result"
    }
   ],
   "source": [
    "assert len(search_result) == 1\n",
    "search_result[0]\n"
   ]
  },
  {
   "cell_type": "code",
   "execution_count": 14,
   "metadata": {},
   "outputs": [],
   "source": [
    "def get_word_card_id(word):\n",
    "    print(\"Finding card id for:\", word)\n",
    "    query = \"Word:{}\".format(word)\n",
    "    search_result = invoke(\"findCards\", query=query)\n",
    "    # Should be no dupes...\n",
    "    # assert len(search_result) == 1\n",
    "    if len(search_result) == 0:\n",
    "        # print(\"Skipping\")\n",
    "        return None\n",
    "    return search_result[0]"
   ]
  },
  {
   "cell_type": "code",
   "execution_count": 15,
   "metadata": {},
   "outputs": [],
   "source": [
    "word = \"字\"\n",
    "# print(get_word_card_id(word))"
   ]
  },
  {
   "cell_type": "markdown",
   "metadata": {},
   "source": [
    "### `setSpecificValueOfCard`\n",
    "\n",
    "- note: reached unsupported action because it wasn't in the __init__ file\n",
    "- it's in the documentation and the repo, but not in the default addon\n",
    "- i will just add it to the init file in the addon dir itself\n",
    "- https://github.com/FooSoft/anki-connect/commit/54a7105bf9da31dabe884a96464206a0fc87c58d\n",
    "- https://github.com/FooSoft/anki-connect/blob/master/plugin/__init__.py\n",
    "\n",
    "\n",
    "\n",
    "- `ivl` won't update if new, only in DB\n",
    "- setting `ivl`, `type`, `queue`, changes the interval but does not fix the due date\n",
    "- setting `due` has to be relative to collection creation time\n",
    "- can we just set to learning (`1`) and a higher interval?\n",
    "- easy interval just has to be set to our desired\n",
    "- setting `due` to zero, `type` and `queue` to 2 (review), and interval to desired\n",
    "    - we can get the card we want to show as \"Due\" TODAY\n",
    "    - the next interval will be interval*factor set in the deck options group\n",
    "\n",
    "\n",
    "\n",
    "https://github.com/ankidroid/Anki-Android/wiki/Database-Structure\n",
    "```\n",
    "    type            integer not null,\n",
    "      -- 0=new, 1=learning, 2=review, 3=relearning\n",
    "    queue           integer not null,\n",
    "      -- -3=user buried(In scheduler 2),\n",
    "      -- -2=sched buried (In scheduler 2), \n",
    "      -- -2=buried(In scheduler 1),\n",
    "      -- -1=suspended,\n",
    "      -- 0=new, 1=learning, 2=review (as for type)\n",
    "      -- 3=in learning, next rev in at least a day after the previous review\n",
    "      -- 4=preview\n",
    "```"
   ]
  },
  {
   "cell_type": "code",
   "execution_count": 16,
   "metadata": {},
   "outputs": [
    {
     "name": "stdout",
     "output_type": "stream",
     "text": [
      "Healthy Card 油:\n",
      "cardId: 1452224257032\n",
      "interval: 599\n",
      "type: 2\n",
      "queue: 2\n",
      "due 2897\n",
      "\n",
      "\n",
      "Test Card じ:\n",
      "cardId: 1706417082027\n",
      "interval: 5\n",
      "type: 2\n",
      "queue: 2\n",
      "due 2184\n"
     ]
    }
   ],
   "source": [
    "# Invoke cardsInfo\n",
    "\n",
    "cards = [1706417082027, 1452224257032]\n",
    "result = invoke(\"cardsInfo\", cards=cards)\n",
    "\n",
    "r = result[1]\n",
    "print(\"Healthy Card 油:\")\n",
    "print(\"cardId:\", r[\"cardId\"])\n",
    "print(\"interval:\", r[\"interval\"])\n",
    "print(\"type:\", r[\"type\"])\n",
    "print(\"queue:\", r[\"queue\"])\n",
    "print(\"due\", r[\"due\"])\n",
    "print(\"\\n\")\n",
    "\n",
    "c = result[0]\n",
    "print(\"Test Card じ:\")\n",
    "print(\"cardId:\", c[\"cardId\"])\n",
    "print(\"interval:\", c[\"interval\"])\n",
    "print(\"type:\", c[\"type\"])\n",
    "print(\"queue:\", c[\"queue\"])\n",
    "print(\"due\", c[\"due\"])"
   ]
  },
  {
   "cell_type": "code",
   "execution_count": 17,
   "metadata": {},
   "outputs": [],
   "source": [
    "# Invoke setSpecificValueOfCard\n",
    "card = 1706417082027\n",
    "keys = [\"ivl\", \"type\", \"queue\", \"due\"]\n",
    "newValues = [5, 2, 2, 1]\n",
    "\n",
    "#result = invoke(\"setSpecificValueOfCard\", card=card, keys=keys, newValues=newValues, warning_check=True, debug=True)\n",
    "# print(result)"
   ]
  },
  {
   "cell_type": "code",
   "execution_count": 18,
   "metadata": {},
   "outputs": [],
   "source": [
    "from datetime import timedelta, date\n",
    "VOCAB_DECK_CREATION_DATE = date(2018, 5, 10)\n",
    "\n",
    "def set_card_learned(card_id, ivl):\n",
    "    keys = [\"ivl\", \"type\", \"queue\", \"due\"]\n",
    "\n",
    "    delta = abs(date.today() - VOCAB_DECK_CREATION_DATE)\n",
    "    due = ivl + delta.days\n",
    "    due_date = VOCAB_DECK_CREATION_DATE + timedelta(days=due)\n",
    "    newValues = [ivl, 2, 2, due]\n",
    "    # ivl   -> how long between last and current review\n",
    "    #       -> changes to time from current review to future review\n",
    "    # type  -> ???? 2 is the correct one tho\n",
    "    # queue -> ???? 2 is the correct one tho\n",
    "    # due   -> days FROM deck creation to be due on (0 is deck creation day)\n",
    "    \n",
    "    \n",
    "\n",
    "    result = invoke(\"setSpecificValueOfCard\", card=card_id, keys=keys, newValues=newValues, warning_check=True)\n",
    "    if result and result[0]: \n",
    "        return due_date\n",
    "    return None"
   ]
  },
  {
   "cell_type": "code",
   "execution_count": 19,
   "metadata": {},
   "outputs": [],
   "source": [
    "# set_card_learned(1706417082027, 5)"
   ]
  },
  {
   "cell_type": "markdown",
   "metadata": {},
   "source": [
    "\n",
    "### add+set\n",
    "`the final function`\n",
    "\n",
    "learned card\n",
    "```\n",
    "cardId: 1714022120139\n",
    "interval: 1\n",
    "queue: 2\n",
    "type:  2\n",
    "due: 2177\n",
    "vocab: 半熟\n",
    "```\n",
    "\n",
    "unlearned card\n",
    "```\n",
    "cardId: 1706417082027\n",
    "interval: 0\n",
    "queue: 0\n",
    "type:  0\n",
    "due: 27940\n",
    "vocab: じ\n",
    "```\n",
    "\n"
   ]
  },
  {
   "cell_type": "code",
   "execution_count": 20,
   "metadata": {},
   "outputs": [],
   "source": [
    "SKIP_DECK = \"nhg::3vocab::unneeded\"\n",
    "\n",
    "import time\n",
    "def auto_add_and_set(word, ivl, force_schedule=False, skip_schedule=False, skip_unneeded=True, generate=True):\n",
    "    \"\"\"\n",
    "    None is failed!\n",
    "\n",
    "    -3 \"Not in Jisho\"\n",
    "    -2 \"No exact match\"\n",
    "    -1 unknown error, \n",
    "    0 date given \n",
    "    1 skipping\n",
    "    2 skipping scheduling - alr in deck\n",
    "    3 skipping scheduling - in unneeded\n",
    "    \"\"\"\n",
    "    print(\"--START-- auto_add_and_set -- \", word)\n",
    "    if not word:\n",
    "        return 1\n",
    "    \n",
    "    card_id = get_word_card_id(word)\n",
    "    if not card_id:\n",
    "        card_id = create_note(word, generate=generate)\n",
    "    if card_id in {-1, -4}:\n",
    "        return -1\n",
    "    elif card_id in {-2}:\n",
    "        return -2\n",
    "    elif card_id in {-3}:\n",
    "        return -3\n",
    "        \n",
    "    print(card_id)\n",
    "    if skip_schedule:\n",
    "        return 1\n",
    "    # check_card_unlearned\n",
    "    if not force_schedule:\n",
    "        for i in range(5):\n",
    "            while True:\n",
    "                try: \n",
    "                    card_info = invoke(\"cardsInfo\", cards=[card_id])\n",
    "                    if card_info[0][\"deckName\"] == SKIP_DECK:\n",
    "                        print(\"Skipping scheduling. Not needed\")\n",
    "                        return 3\n",
    "                    if card_info[0][\"type\"] or card_info[0][\"queue\"]:\n",
    "                        print(\"Skipping scheduling. Not a new card\")\n",
    "                        print(\"Card Interval:\", card_info[0][\"interval\"])\n",
    "                        return 2\n",
    "                except KeyError as e:\n",
    "                    print(\"Key 'type' doesn't exist yet\")\n",
    "                    return -1\n",
    "                    # time.sleep(3)\n",
    "                    # continue\n",
    "                break\n",
    "\n",
    "    result = set_card_learned(card_id, ivl)\n",
    "    if result:\n",
    "        return 0\n",
    "    else:\n",
    "        return -1"
   ]
  },
  {
   "cell_type": "code",
   "execution_count": 21,
   "metadata": {},
   "outputs": [],
   "source": [
    "word = \"拾い\"\n",
    "ivl = 1\n",
    "# result = auto_add_and_set(word, 1)"
   ]
  },
  {
   "cell_type": "markdown",
   "metadata": {},
   "source": [
    "### batch\n",
    "\n",
    "91 words took 6m43.8s (first run)"
   ]
  },
  {
   "cell_type": "code",
   "execution_count": 22,
   "metadata": {},
   "outputs": [],
   "source": [
    "def batch_add(words, ivl=-1, skip_schedule=True, force_schedule=True, generate=True):\n",
    "    words_result_map = dict()\n",
    "    for i in range(len(words)):\n",
    "        print(i)\n",
    "        word = words[i]\n",
    "        try:\n",
    "            result = auto_add_and_set(\n",
    "                word, \n",
    "                ivl, \n",
    "                skip_schedule=skip_schedule,\n",
    "                force_schedule=force_schedule,\n",
    "                generate=False,\n",
    "            )\n",
    "            words_result_map[word] = result\n",
    "        except Exception as e:\n",
    "            print(e)\n",
    "            words_result_map[word] = -1\n",
    "        finally:\n",
    "            print(f\"{word}: {words_result_map[word]}\")\n",
    "            print()\n",
    "    return words_result_map"
   ]
  },
  {
   "cell_type": "markdown",
   "metadata": {},
   "source": [
    "# Unlearned workflows"
   ]
  },
  {
   "attachments": {},
   "cell_type": "markdown",
   "metadata": {},
   "source": [
    "### Get Unlearned Kanji Workflow"
   ]
  },
  {
   "cell_type": "code",
   "execution_count": 23,
   "metadata": {},
   "outputs": [],
   "source": [
    "WORD_LIST = \"other/highlights-text.txt\""
   ]
  },
  {
   "cell_type": "code",
   "execution_count": 24,
   "metadata": {},
   "outputs": [],
   "source": [
    "# https://stackoverflow.com/questions/33338713/filtering-out-all-non-kanji-characters-in-a-text-with-python-3\n",
    "# filter out others...\n",
    "\n",
    "def is_not_hiragana_or_katakana(char):\n",
    "    \"\"\"\n",
    "    Check if a character is not hiragana or katakana\n",
    "    *from ChatGPT\n",
    "\n",
    "    # Example usage\n",
    "    characters = \"あいうえおアイウエオ漢字\"\n",
    "    filtered_characters = [char for char in characters if is_not_hiragana_or_katakana(char)]\n",
    "\n",
    "    print(\"Original Characters:\", characters)\n",
    "    print(\"Filtered Characters:\", \"\".join(filtered_characters))\n",
    "    \"\"\"\n",
    "    import re\n",
    "    # Define regular expressions for Hiragana and Katakana\n",
    "    hiragana_pattern = re.compile(r'[\\u3041-\\u3096ー]')  # Hiragana\n",
    "    katakana_pattern = re.compile(r'[\\u30A0-\\u30FFー]')  # Katakana\n",
    "\n",
    "    # Check if the character is not a Hiragana or Katakana character\n",
    "    return not (hiragana_pattern.match(char) or katakana_pattern.match(char))"
   ]
  },
  {
   "cell_type": "code",
   "execution_count": 25,
   "metadata": {},
   "outputs": [],
   "source": [
    "def get_kanji(word_list):\n",
    "    # from gpt\n",
    "    with open(word_list, encoding='utf-8') as f:\n",
    "        lines = [line.rstrip('\\n') for line in f.readlines()]\n",
    "\n",
    "    # set\n",
    "    kanji_to_search = set()\n",
    "    for line in lines:\n",
    "        for char in line:\n",
    "            # TODO (ebui): filter out all non kanji characters\n",
    "            if is_not_hiragana_or_katakana(char):\n",
    "                kanji_to_search.add(char)\n",
    "\n",
    "    # Get Entire Deck (findCards -> cardsInfo) 7s\n",
    "    query = \"deck:nhg::1kanji\"\n",
    "    search_result = invoke(\"findCards\", query=query)\n",
    "    card_info = invoke(\"cardsInfo\", cards=search_result)\n",
    "\n",
    "    # Create Map\n",
    "    cards = dict()\n",
    "    failed = list()\n",
    "    for card in card_info:\n",
    "        try:\n",
    "            kanji = card[\"fields\"][\"Kanji\"][\"value\"]\n",
    "            cards[kanji] = card[\"interval\"]\n",
    "        except KeyError as ke:\n",
    "            failed.append(card)\n",
    "\n",
    "\n",
    "    # Search\n",
    "    to_learn = set()\n",
    "    learned = set()\n",
    "    not_found = set()\n",
    "    for kanji in kanji_to_search:\n",
    "        try:\n",
    "            if cards[kanji] == 0:\n",
    "                to_learn.add(kanji)\n",
    "            elif cards[kanji] > 0:\n",
    "                learned.add(kanji)\n",
    "        except Exception:\n",
    "            not_found.add(kanji)\n",
    "\n",
    "    print(\"--\")\n",
    "    print(\"To learn:\\t\", len(to_learn), to_learn)\n",
    "    print(\"Learned:\\t\", len(learned), learned)\n",
    "    print(\"Not Found:\\t\", len(not_found), not_found)\n",
    "\n",
    "    return to_learn, learned\n",
    "# 8s"
   ]
  },
  {
   "cell_type": "code",
   "execution_count": 26,
   "metadata": {},
   "outputs": [
    {
     "name": "stdout",
     "output_type": "stream",
     "text": [
      "--\n",
      "To learn:\t 0 set()\n",
      "Learned:\t 206 {'援', '基', '日', '乏', '集', '引', '乗', '一', '活', '札', '余', '律', '客', '性', '茂', '文', '訪', '実', '豊', '力', '立', '海', '首', '掲', '女', '部', '絵', '化', '本', '九', '向', '議', '々', '州', '考', '茶', '生', '気', '左', '際', '廃', '後', '源', '様', '核', '益', '含', '明', '小', '大', '済', '内', '初', '始', '国', '民', '半', '揮', '論', '市', '再', '長', '策', '緯', '設', '巡', '全', '定', '加', '中', '道', '稼', '令', '年', '課', '光', '方', '関', '可', '魅', '能', '反', '情', '統', '普', '挙', '合', '有', '土', '要', '交', '支', '練', '省', '頼', '住', '期', '的', '境', '体', '指', '世', '開', '観', '好', '増', '意', '街', '自', '横', '幌', '薄', '広', '来', '果', '枢', '減', '点', '題', '助', '効', '府', '働', '治', '北', '村', '度', '新', '配', '識', '然', '地', '誇', '税', '口', '何', '時', '濁', '庁', '会', '略', '描', '在', '探', '創', '町', '切', '辺', '従', '展', '像', '伝', '経', '多', '破', '金', '今', '戦', '納', '遍', '賭', '人', '石', '発', '現', '岡', '得', '福', '機', '政', '目', '保', '都', '将', '通', '各', '荒', '直', '付', '残', '進', '事', '資', '所', '右', '相', '同', '捨', '招', '導', '周', '例', '重', '問', '質', '県', '若', '者', '状', '程', '域', '共', '環', '推', '示', '倍'}\n",
      "Not Found:\t 8 {'2', '0', '1', '。', '」', '8', '、', '「'}\n"
     ]
    }
   ],
   "source": [
    "kanji_unlearned, kanji_learned = get_kanji(WORD_LIST)"
   ]
  },
  {
   "attachments": {},
   "cell_type": "markdown",
   "metadata": {},
   "source": [
    "### Get Unlearned Words Workflow"
   ]
  },
  {
   "cell_type": "code",
   "execution_count": 27,
   "metadata": {},
   "outputs": [],
   "source": [
    "def get_words(word_list):\n",
    "    # from gpt\n",
    "    with open(word_list, encoding='utf-8') as f:\n",
    "        lines = [line.rstrip('\\n') for line in f.readlines()]\n",
    "\n",
    "    # set\n",
    "    words_to_search = set(lines)\n",
    "\n",
    "    # Get Entire Deck (findCards -> cardsInfo) 7s\n",
    "    query = \"deck:nhg::3vocab\"\n",
    "    search_result = invoke(\"findCards\", query=query)\n",
    "    card_info = invoke(\"cardsInfo\", cards=search_result)\n",
    "\n",
    "    # Create Map\n",
    "    cards = dict()\n",
    "    failed = list()\n",
    "\n",
    "    to_skip = set()\n",
    "    for card in card_info:\n",
    "        try:\n",
    "            vocab = card[\"fields\"][\"Word\"][\"value\"]\n",
    "            if card[\"deckName\"] == SKIP_DECK:\n",
    "                # to_skip.add(vocab)\n",
    "                cards[vocab] = -100000\n",
    "            else:\n",
    "                cards[vocab] = card[\"interval\"]\n",
    "        except KeyError as ke:\n",
    "            failed.append(card)\n",
    "\n",
    "    # Info\n",
    "    to_learn = set()\n",
    "    learned = set()\n",
    "    not_found = set()\n",
    "    for word in words_to_search:\n",
    "        try:\n",
    "            if cards[word] == 0:\n",
    "                to_learn.add(word)\n",
    "            elif cards[word] > 0:\n",
    "                learned.add(word)\n",
    "            elif cards[word] == -100000:\n",
    "                to_skip.add(word)\n",
    "        except Exception:\n",
    "            not_found.add(word)\n",
    "\n",
    "    print(\"--\")\n",
    "    print(\"to learn:\\t\", len(to_learn), to_learn)\n",
    "    print(\"learned:\\t\", len(learned), learned)\n",
    "    print(\"to add:\\t\", len(not_found), not_found)\n",
    "    print(\"to skip:\\t\", len(to_skip), to_skip)\n",
    "    print(\"failed:\\t\",  len(failed), failed)\n",
    "    # return to_learn.union(not_found), learned, to_skip, failed\n",
    "    return to_learn.union(not_found), learned, to_skip\n",
    "\n",
    "# 16s"
   ]
  },
  {
   "cell_type": "code",
   "execution_count": 28,
   "metadata": {},
   "outputs": [
    {
     "name": "stdout",
     "output_type": "stream",
     "text": [
      "574\n"
     ]
    }
   ],
   "source": [
    "file = \"other/girlsbandcry1-cleaned.txt\"\n",
    "with open(file, encoding='utf-8') as f:\n",
    "    lines = [line.rstrip('\\n') for line in f.readlines()]\n",
    "print(len(set(lines)))\n",
    "# words_unlearned, words_learned, to_add, to_skip, failed = get_words(file)\n",
    "# print(len(words_unlearned) + len(words_learned) + len(to_add) + len(to_skip) + len(failed))\n",
    "# --\n",
    "# words_unlearned, words_learned, to_skip = get_words(file)\n",
    "# print(len(words_unlearned) + len(words_learned) + len(to_skip))\n"
   ]
  },
  {
   "attachments": {},
   "cell_type": "markdown",
   "metadata": {},
   "source": [
    "### combined workflow: Get words with known kanji and words with unknown kanji"
   ]
  },
  {
   "cell_type": "code",
   "execution_count": 29,
   "metadata": {},
   "outputs": [
    {
     "data": {
      "text/plain": [
       "'\\nwf_kt = set() # Easy Words\\nwf_kf = set() # Low Prio Words\\nwt_kf = set() # High Prio Kanji\\nwt_kt = set() # Known\\n\\n\\nfor word in words_unlearned:\\n    known = True\\n    for char in word:\\n        if char in kanji_unlearned:\\n            wf_kf.add(word)\\n            known = False\\n            break\\n    if known:\\n        wf_kt.add(word)\\nfor word in words_learned:\\n    known = True\\n    for char in word:\\n        if char in kanji_unlearned:\\n            wt_kf.add(word)\\n            known = False\\n            break\\n    if known:\\n        wt_kt.add(word)\\n\\n# Warning: ignores words with kanji not found, doesn\\'t separate words not found\\nprint(\"wf_kt, Easy Words:\", len(wf_kt), wf_kt)\\nprint(\"wf_kf, Low Prio Word:\", len(wf_kf), wf_kf)\\nprint(\"wt_kf, High Prio Kanji:\", len(wt_kf), wt_kf)\\nprint(\"wt_kt, Known Words:\", len(wt_kt), wt_kt)\\n'"
      ]
     },
     "execution_count": 29,
     "metadata": {},
     "output_type": "execute_result"
    }
   ],
   "source": [
    "# kanji_unlearned, kanji_learned\n",
    "# words_unlearned, words_learned\n",
    "\n",
    "# word true/false, kanji true/false\n",
    "\n",
    "\"\"\"\n",
    "wf_kt = set() # Easy Words\n",
    "wf_kf = set() # Low Prio Words\n",
    "wt_kf = set() # High Prio Kanji\n",
    "wt_kt = set() # Known\n",
    "\n",
    "\n",
    "for word in words_unlearned:\n",
    "    known = True\n",
    "    for char in word:\n",
    "        if char in kanji_unlearned:\n",
    "            wf_kf.add(word)\n",
    "            known = False\n",
    "            break\n",
    "    if known:\n",
    "        wf_kt.add(word)\n",
    "for word in words_learned:\n",
    "    known = True\n",
    "    for char in word:\n",
    "        if char in kanji_unlearned:\n",
    "            wt_kf.add(word)\n",
    "            known = False\n",
    "            break\n",
    "    if known:\n",
    "        wt_kt.add(word)\n",
    "\n",
    "# Warning: ignores words with kanji not found, doesn't separate words not found\n",
    "print(\"wf_kt, Easy Words:\", len(wf_kt), wf_kt)\n",
    "print(\"wf_kf, Low Prio Word:\", len(wf_kf), wf_kf)\n",
    "print(\"wt_kf, High Prio Kanji:\", len(wt_kf), wt_kf)\n",
    "print(\"wt_kt, Known Words:\", len(wt_kt), wt_kt)\n",
    "\"\"\""
   ]
  },
  {
   "cell_type": "markdown",
   "metadata": {},
   "source": [
    "### analyze list"
   ]
  },
  {
   "cell_type": "code",
   "execution_count": 30,
   "metadata": {},
   "outputs": [],
   "source": [
    "def analyze_list(word_list):\n",
    "    kanji_unlearned, kanji_learned = get_kanji(word_list)\n",
    "    words_unlearned, words_learned, to_skip = get_words(word_list)\n",
    "\n",
    "    # word true/false, kanji true/false\n",
    "    wf_kt = set() # Easy Words\n",
    "    wf_kf = set() # Low Prio Words\n",
    "    wt_kf = set() # High Prio Kanji\n",
    "    wt_kt = set() # Known\n",
    "\n",
    "\n",
    "    for word in words_unlearned:\n",
    "        known = True\n",
    "        for char in word:\n",
    "            if char in kanji_unlearned:\n",
    "                wf_kf.add(word)\n",
    "                known = False\n",
    "                break\n",
    "        if known:\n",
    "            wf_kt.add(word)\n",
    "    for word in words_learned:\n",
    "        known = True\n",
    "        for char in word:\n",
    "            if char in kanji_unlearned:\n",
    "                wt_kf.add(word)\n",
    "                known = False\n",
    "                break\n",
    "        if known:\n",
    "            wt_kt.add(word)\n",
    "\n",
    "    # Warning: ignores words with kanji not found, doesn't separate words not found\n",
    "    print(\"--\")\n",
    "    print(\"wf_kt,\\tEasy Words:\", len(wf_kt), sorted(wf_kt, key=len))\n",
    "    print(\"wf_kf,\\tLow Prio Word:\", len(wf_kf), wf_kf)\n",
    "    print(\"wt_kf,\\tHigh Prio Kanji:\", len(wt_kf), wt_kf)\n",
    "    print(\"wt_kt,\\tKnown Words:\", len(wt_kt), sorted(wt_kt, key=len))\n",
    "    print(\"UNNEEDED (SKIP): \\t\", len(to_skip), sorted(to_skip, key=len))\n",
    "    print()\n",
    "    # easy, low, kanji, known\n",
    "    return  sorted(wf_kt, key=len), sorted(wf_kf, key=len)"
   ]
  },
  {
   "cell_type": "code",
   "execution_count": 31,
   "metadata": {},
   "outputs": [],
   "source": [
    "myl = \"other/girlsbandcry1-cleaned.txt\"\n",
    "# easy, low, kanji, known = analyze_list(myl)"
   ]
  },
  {
   "cell_type": "markdown",
   "metadata": {},
   "source": [
    "# problems\n",
    "\n",
    "\n",
    "\n",
    "### problems\n",
    "Problems noticed within the autocreated cards:\n",
    "- words that are definitely not important\n",
    "    - maybe need a way to search up frequency for real? \n",
    "- compound words -> example 低血圧 vs 血圧 (i prio base words)\n",
    "    - compound words can be in the meaning description\n",
    "        致命\n",
    "            致命的\n",
    "            致命傷\n",
    "- add sentence example?\n",
    "\n",
    "\n",
    "1) should keep in auto-unsorted until reviewed once\n",
    "\n",
    "\n",
    "-> make function to batch them\n",
    "-> return a return code, \n",
    "\n",
    "\n",
    "EXAMPLE PROBLEM WORD: あいびき"
   ]
  },
  {
   "cell_type": "markdown",
   "metadata": {},
   "source": [
    "# SPACE"
   ]
  },
  {
   "cell_type": "markdown",
   "metadata": {},
   "source": [
    "###### EXECUTE ABOVE CELLS"
   ]
  },
  {
   "cell_type": "code",
   "execution_count": 32,
   "metadata": {},
   "outputs": [
    {
     "name": "stdout",
     "output_type": "stream",
     "text": [
      "FINISHED!\n"
     ]
    }
   ],
   "source": [
    "print(\"FINISHED!\")"
   ]
  },
  {
   "cell_type": "code",
   "execution_count": 38,
   "metadata": {},
   "outputs": [],
   "source": [
    "# EXECUTE ABOVE CELLS"
   ]
  },
  {
   "cell_type": "code",
   "execution_count": 2,
   "metadata": {},
   "outputs": [
    {
     "ename": "NameError",
     "evalue": "name 'auto_add_and_set' is not defined",
     "output_type": "error",
     "traceback": [
      "\u001b[1;31m---------------------------------------------------------------------------\u001b[0m",
      "\u001b[1;31mNameError\u001b[0m                                 Traceback (most recent call last)",
      "Cell \u001b[1;32mIn[2], line 4\u001b[0m\n\u001b[0;32m      2\u001b[0m word \u001b[38;5;241m=\u001b[39m \u001b[38;5;124m\"\u001b[39m\u001b[38;5;124m.\u001b[39m\u001b[38;5;124m\"\u001b[39m\n\u001b[0;32m      3\u001b[0m ivl \u001b[38;5;241m=\u001b[39m \u001b[38;5;241m7\u001b[39m\n\u001b[1;32m----> 4\u001b[0m result \u001b[38;5;241m=\u001b[39m \u001b[43mauto_add_and_set\u001b[49m(word, ivl, force_schedule\u001b[38;5;241m=\u001b[39m\u001b[38;5;28;01mTrue\u001b[39;00m)\n\u001b[0;32m      5\u001b[0m \u001b[38;5;28mprint\u001b[39m(result)\n",
      "\u001b[1;31mNameError\u001b[0m: name 'auto_add_and_set' is not defined"
     ]
    }
   ],
   "source": [
    "# SCHEDULE \n",
    "word = \".\"\n",
    "ivl = 7\n",
    "result = auto_add_and_set(word, ivl, force_schedule=True)\n",
    "print(result)"
   ]
  },
  {
   "cell_type": "code",
   "execution_count": 57,
   "metadata": {},
   "outputs": [
    {
     "name": "stdout",
     "output_type": "stream",
     "text": [
      "--START-- auto_add_and_set --  湊\n",
      "Finding card id for: 湊\n",
      "1729815645393\n"
     ]
    }
   ],
   "source": [
    "# SKIP SCHEDULE\n",
    "word = \".\"\n",
    "ivl = 4\n",
    "result = auto_add_and_set(word, ivl, skip_schedule=True)"
   ]
  },
  {
   "cell_type": "code",
   "execution_count": 34,
   "metadata": {},
   "outputs": [],
   "source": [
    "###################################"
   ]
  },
  {
   "cell_type": "markdown",
   "metadata": {},
   "source": [
    "..."
   ]
  },
  {
   "cell_type": "code",
   "execution_count": 192,
   "metadata": {},
   "outputs": [
    {
     "name": "stdout",
     "output_type": "stream",
     "text": [
      "--START-- auto_add_and_set --  穿つ\n",
      "Finding card id for: 穿つ\n",
      "Creating card for: 穿つ\n",
      "to drill, to bore, to pierce, to pass through (*) to hit the mark, to get to the heart of (the matter), to be true to (nature) (*) to put on, to wear\n",
      "1730080704693\n",
      "Key 'type' doesn't exist yet\n"
     ]
    },
    {
     "data": {
      "text/plain": [
       "-1"
      ]
     },
     "execution_count": 192,
     "metadata": {},
     "output_type": "execute_result"
    }
   ],
   "source": [
    "# SCHEDULE IF NOT SCHEDULED - FIRST\n",
    "word = [\n",
    "\"穿つ\"\n",
    "]\n",
    "ivl = 1\n",
    "result = auto_add_and_set(word[0], ivl)\n",
    "result"
   ]
  },
  {
   "cell_type": "code",
   "execution_count": 194,
   "metadata": {},
   "outputs": [
    {
     "name": "stdout",
     "output_type": "stream",
     "text": [
      "--START-- auto_add_and_set --  鼻孔\n",
      "Finding card id for: 鼻孔\n",
      "1730080937059\n"
     ]
    },
    {
     "data": {
      "text/plain": [
       "0"
      ]
     },
     "execution_count": 194,
     "metadata": {},
     "output_type": "execute_result"
    }
   ],
   "source": [
    "# SCHEDULE IF NOT SCHEDULED - SECOND\n",
    "word = [\n",
    "\"鼻孔\"\n",
    "]\n",
    "ivl = 4\n",
    "result = auto_add_and_set(word[0], ivl)\n",
    "result"
   ]
  },
  {
   "cell_type": "code",
   "execution_count": 195,
   "metadata": {},
   "outputs": [
    {
     "name": "stdout",
     "output_type": "stream",
     "text": [
      "--START-- auto_add_and_set --  鼻の穴\n",
      "Finding card id for: 鼻の穴\n",
      "Creating card for: 鼻の穴\n",
      "nostril\n",
      "1730080962549\n"
     ]
    },
    {
     "data": {
      "text/plain": [
       "0"
      ]
     },
     "execution_count": 195,
     "metadata": {},
     "output_type": "execute_result"
    }
   ],
   "source": [
    "# SCHEDULE IF NOT SCHEDULED - THIRD\n",
    "word = [\n",
    "\"鼻の穴\"\n",
    "]\n",
    "ivl = 360\n",
    "result = auto_add_and_set(word[0], ivl)\n",
    "result"
   ]
  },
  {
   "cell_type": "markdown",
   "metadata": {},
   "source": [
    "##### me analyse\n",
    "\n",
    "\n",
    "- note that words with not found kanji are not added...\n",
    "- add not found kanji and rerun\n",
    "- to add: if autocreated, or added already, definitely schedule"
   ]
  },
  {
   "cell_type": "code",
   "execution_count": 34,
   "metadata": {},
   "outputs": [
    {
     "name": "stdout",
     "output_type": "stream",
     "text": [
      "--\n",
      "To learn:\t 4 {'呉', '嘗', '蒔', '瞑'}\n",
      "Learned:\t 441 {'用', '根', '邪', '僕', '一', '価', '札', '尻', '強', '吹', '巻', '静', '追', '次', '尊', '応', '楽', '惰', '鈴', '飽', '首', '部', '係', '園', '々', '気', '判', '明', '髪', '原', '遅', '終', '歌', '限', '覚', '長', '全', '到', '法', '申', '関', '取', '起', '能', '情', '理', '反', '前', '有', '弁', '的', '沸', '間', '異', '最', '来', '回', '称', '汚', '聖', '捕', '為', '頭', '配', '息', '洗', '郎', '救', '殺', '映', '時', '値', '絶', '会', '談', '探', '歓', '刀', '紹', '許', '従', '失', '紛', '替', '正', '敵', '臭', '想', '身', '行', '寄', '存', '現', '得', '焼', '頂', '縁', '不', '通', '直', '習', '飛', '悲', '知', '付', '心', '圧', '場', '苦', '死', '安', '話', '形', '走', '解', '供', '準', '二', '変', '引', '子', '毛', '恵', '近', '違', '鬼', '使', '郷', '恐', '断', '本', '必', '向', '考', '焦', '拗', '様', '吐', '制', '範', '謎', '剣', '由', '過', '続', '初', '止', '渉', '権', '派', '男', '泣', '中', '嫌', '押', '施', '抱', '攻', '合', '要', '詞', '痛', '上', '居', '味', '謝', '聴', '腹', '利', '約', '言', '街', '欲', '果', '成', '撃', '笑', '飲', '作', '効', '置', '闇', '皆', '冗', '誘', '凄', '空', '信', '肝', '介', '美', '因', '換', '象', '優', '態', '太', '悪', '執', '狙', '暇', '泥', '譲', '人', '発', '抗', '持', '嬉', '服', '遺', '虫', '怖', '拍', '奪', '周', '妻', '良', '規', '呪', '勝', '戻', '君', '忠', '恥', '愛', '魔', '懐', '女', '化', '号', '込', '主', '転', '衆', '顔', '後', '貰', '況', '命', '並', '囲', '術', '仲', '肖', '盲', '済', '願', '闘', '銘', '倒', '俺', '細', '思', '彼', '方', '墓', '諦', '食', '銀', '先', '守', '頼', '返', '棒', '聞', '世', '班', '以', '更', '好', '買', '担', '薄', '傷', '離', '真', '音', '震', '題', '点', '喪', '助', '危', '第', '舞', '驚', '激', '忌', '鎖', '怠', '打', '他', '請', '憤', '赤', '外', '在', '困', '備', '誰', '切', '連', '呼', '下', '腕', '今', '念', '御', '目', '告', '都', '這', '疲', '荒', '霊', '燃', '干', '見', '事', '手', '差', '響', '所', '任', '脳', '質', '状', '共', '処', '夫', '秒', '工', '声', '辛', '早', '己', '説', '娘', '色', '性', '実', '出', '魂', '公', '力', '立', '拠', '影', '怒', '甘', '遣', '借', '落', '私', '格', '生', '野', '足', '待', '壊', '罪', '大', '急', '内', '難', '半', '揮', '市', '策', '証', '凍', '悔', '名', '緊', '道', '噛', '喜', '可', '精', '対', '練', '放', '体', '迎', '片', '鎮', '意', '自', '広', '当', '匂', '煩', '幼', '険', '輝', '識', '酷', '仕', '然', '番', '繰', '口', '何', '白', '線', '苛', '伝', '丈', '熱', '破', '戦', '確', '暴', '教', '受', '注', '緒', '認', '褒', '瞳', '怯', '残', '纏', '動', '感', '同', '相', '界', '着', '葉', '座', '問', '掛', '司', '無', '束', '猫', '恨', '分', '舌', '物'}\n",
      "Not Found:\t 9 {'“', '滾', '♪', '”', '･', '—', '撥', '～', '蹲'}\n",
      "--\n",
      "to learn:\t 32 {'吹き飛ぶ', '悪臭', '走り', '対処', '差し上げる', '洗脳', '聴衆', '請う', '細工', '異質', '真理', '称号', '長引く', '汚らわしい', '出番', '盲目', '遣らかす', '瞑る', '成す', '通ずる', '分かつ', '体質', '激情', '手早い', '広場', '苦しみ', '発揮', '信ずる', '喜ばしい', '存分', '不肖', '強請る'}\n",
      "learned:\t 343 {'僕', '知る', '一', '後悔', '限界', '担当', '札', '尻', '勝つ', '強制', '全部', '付ける', '次', '最初', '行動', '怖い', '到着', '鈴', '首', '押す', '執拗', '関係', '許す', '話す', '様子', '気', 'お前', '見る', '当然', '髪', '甘い', '歌', '任せる', '会話', '守る', '驚く', '法', '怒る', '前', '掛かる', '的', '圧倒', '魔女', '立つ', '頭', '煩わしい', '息', '痛い', '狙う', '来る', '拍手', '時', '悪い', '信用', '分かる', '仕舞う', '価値', '喜び', '敵', '落ち着く', '使う', '同じ', '規格', '輝く', '破壊', '共有', '説明', '魔法', '心', '死', '根拠', '巻く', '違反', '暴力', '形', '話', '大人しい', '一緒', '下げる', '紹介', '呪い', '銀色', '置く', '変', '子', '鬼', '世界', '謝る', '忠告', '自己', '周囲', '諦める', '立派', '様', '言う', '謎', '大好き', '聞く', '泥棒', '感覚', '男', '範囲', '過ぎる', '生み出す', '悪意', '嫌', '知恵', '助ける', '成る', '注意', '取る', '都市', '上', '向かう', '冗談', '街', '困る', '要る', '忌まわしい', '探す', '施す', '以上', '公園', '切り替える', '頼む', '本当', '恥ずかしい', '闇', '戻る', '皆', '本来', '辛い', '迎える', '甘美', '彼女', '肝', '従う', '聞こえる', '仕掛ける', '嬉しい', '繰り返す', '安心', '確か', '世話', '緊急', '泣く', '問題', '尊い', '終わり', '暇', '吐く', '危険', '感じ', '人', '大丈夫', '持つ', '行く', '使い', '目線', '良い', '誘う', '静か', '転換', '生きる', '戦場', '虫', '考え', '正しい', '食う', '願い', '空白', '妻', '止める', '片付ける', '無効', '頂点', '近い', '弁える', '君', '違う', '続ける', '状況', '止まる', '買い物', '奪う', '愛', '頼る', '魔', '縁起', '気持ち', '女', '幼女', '近寄る', '顔', '済む', '命', '術', '一番', '話し合う', '救う', '遺言', '呼ぶ', '持ち主', '俺', '方', '最後', '一応', '恨み', '野郎', '先', '悪口', '直前', '女性', '目的', '班', '他人', '音', '子供', '下さる', '上がる', '精霊', '鎖', '攻撃', '言葉', '二人', '楽しむ', '怯える', '他', '外', '全て', '時間', '絶対', '誰', '褒める', '自由', '以内', '殺す', '自分', '抱く', '全然', '出来る', '腕', '今', '対象', '買う', '沸く', '悪事', '近道', '目', '怠惰', '通す', '出る', '準備', '手伝う', '周り', '作る', '憤怒', '手', '纏める', '無理', '向ける', '申す', '全身', '取り込む', '気分', '残念', '夫', '荒い', '秒', '効果', '証拠', '干渉', '原因', '真実', '声', '凄い', '相手', '下がる', '娘', '赤い', '魂', '説得', '力', '有名', '待つ', '酷い', '頼り', '私', '噛む', '戦う', '考える', '足', '後ろ', '知れる', '急', '恐怖', '意識', '必要', '約束', '理由', '輝き', '理想', '思う', '遅れる', '事態', '大変', '本気', '心配', '願う', '利く', '出す', '上げる', '受け止める', '並々', '番', '貰う', '急ぐ', '感情', '何', '切る', '解放', '頂く', '借りる', '悲しみ', '間に合う', '影響', '場所', '臭い', '瞳', '会う', '判断', '練習', '能力', '早い', '連中', '優しい', '存在', '焼く', '飲み物', '猫', '分', '舌', '物'}\n",
      "to add:\t 91 {'無策', 'ばら蒔く', '苛立たしい', '服する', '赤毛', '熱情', '強', '震え', '郷', '這い蹲る', '言い残す', '歓談', '鎮魂', '♪', '紛れ', '為る', '化', '可笑しい', '先制', '居る', '打ち勝つ', '無い', '権能', '銘ずる', '半', '薄汚い', '太刀打ち', '有り難う', '抗う', '失せる', '共闘', 'うめき声', '邪法', '遣る', '呉れる', '司教', '許し', '燃えかす', '回', '喪', '更なる', '御座る', '仲よく', '—', '第', '遣っ付ける', '迎え', 'そう様態', '銀髪', '傷付く', '忌ま忌ましい', '墓前', '嫌み', 'ひと事', '正気', '飽き足る', '剣聖', '有る', '打っぱなす', '追い掛ける', 'すすり泣き', '御早う', '･', '映り込む', '街なか', '腹立たしい', '教', '～', '嘗める', '不', '呪術', '大罪', '認め合う', '撥ねる', '可愛い', '滾る', '恐れ戦く', '凍り付く', 'お手上げ', '強欲', '焼き焦がす', '本懐', '過分', '立ちくらみ', '引く他動詞', '“', '分かり合う', '”', '手間取る', '譲り合う', '聞き分け'}\n",
      "to skip:\t 7 {'現われる', '切り離す', '匂う', '捕まる', '感ずる', '疲れ', '不味い'}\n",
      "failed:\t 0 []\n",
      "--\n",
      "wf_kt,\tEasy Words: 119 ['強', '郷', '♪', '化', '半', '回', '喪', '—', '第', '･', '教', '～', '不', '“', '”', '無策', '走り', '対処', '赤毛', '聴衆', '熱情', '真理', '異質', '震え', '歓談', '鎮魂', '紛れ', '為る', '先制', '居る', '無い', '権能', '抗う', '盲目', '共闘', '邪法', '遣る', '司教', '許し', '広場', '不肖', '悪臭', '洗脳', '迎え', '銀髪', '墓前', '出番', '嫌み', '正気', '剣聖', '有る', '体質', '激情', '請う', '称号', '細工', '呪術', '大罪', '滾る', '強欲', '成す', '本懐', '過分', '発揮', '存分', '服する', '通ずる', '強請る', '銘ずる', '薄汚い', '長引く', '失せる', '更なる', '御座る', '仲よく', '傷付く', 'ひと事', '御早う', '苦しみ', '信ずる', '街なか', '撥ねる', '可愛い', '分かつ', '手早い', '這い蹲る', '言い残す', '可笑しい', '打ち勝つ', '吹き飛ぶ', '太刀打ち', '有り難う', 'うめき声', '燃えかす', 'そう様態', '飽き足る', '映り込む', '認め合う', '遣らかす', '恐れ戦く', '凍り付く', 'お手上げ', '手間取る', '譲り合う', '喜ばしい', '聞き分け', '苛立たしい', '遣っ付ける', '汚らわしい', '打っぱなす', '追い掛ける', 'すすり泣き', '腹立たしい', '差し上げる', '焼き焦がす', '立ちくらみ', '引く他動詞', '分かり合う', '忌ま忌ましい']\n",
      "wf_kf,\tLow Prio Word: 4 {'ばら蒔く', '瞑る', '嘗める', '呉れる'}\n",
      "wt_kf,\tHigh Prio Kanji: 0 set()\n",
      "wt_kt,\tKnown Words: 343 ['僕', '一', '札', '尻', '次', '鈴', '首', '気', '髪', '歌', '法', '前', '的', '頭', '息', '時', '敵', '心', '死', '形', '話', '変', '子', '鬼', '様', '謎', '男', '嫌', '上', '街', '闇', '皆', '肝', '暇', '人', '虫', '妻', '君', '愛', '魔', '女', '顔', '命', '術', '俺', '方', '先', '班', '音', '鎖', '他', '外', '誰', '腕', '今', '目', '手', '夫', '秒', '声', '娘', '魂', '力', '私', '足', '急', '番', '何', '舌', '猫', '分', '瞳', '物', '知る', '後悔', '限界', '担当', '勝つ', '強制', '全部', '最初', '行動', '怖い', '到着', '押す', '執拗', '関係', '許す', '話す', '様子', 'お前', '見る', '当然', '甘い', '会話', '守る', '驚く', '怒る', '圧倒', '魔女', '立つ', '痛い', '狙う', '来る', '拍手', '悪い', '信用', '価値', '喜び', '使う', '同じ', '規格', '輝く', '破壊', '共有', '説明', '魔法', '根拠', '巻く', '違反', '暴力', '一緒', '紹介', '呪い', '銀色', '置く', '世界', '謝る', '忠告', '自己', '周囲', '立派', '言う', '聞く', '泥棒', '感覚', '範囲', '悪意', '知恵', '成る', '注意', '取る', '都市', '冗談', '困る', '要る', '探す', '施す', '以上', '公園', '頼む', '本当', '戻る', '本来', '辛い', '甘美', '彼女', '従う', '安心', '確か', '世話', '緊急', '泣く', '問題', '尊い', '吐く', '危険', '感じ', '持つ', '行く', '使い', '目線', '良い', '誘う', '静か', '転換', '戦場', '考え', '食う', '願い', '空白', '無効', '頂点', '近い', '違う', '状況', '奪う', '頼る', '縁起', '幼女', '済む', '一番', '救う', '遺言', '呼ぶ', '最後', '一応', '恨み', '野郎', '悪口', '直前', '女性', '目的', '他人', '子供', '精霊', '攻撃', '言葉', '二人', '全て', '時間', '絶対', '自由', '以内', '殺す', '自分', '抱く', '全然', '対象', '買う', '沸く', '悪事', '近道', '怠惰', '通す', '出る', '準備', '周り', '作る', '憤怒', '無理', '申す', '全身', '気分', '残念', '荒い', '効果', '証拠', '干渉', '原因', '真実', '凄い', '相手', '赤い', '説得', '有名', '待つ', '酷い', '頼り', '噛む', '戦う', '後ろ', '恐怖', '意識', '必要', '約束', '理由', '輝き', '理想', '思う', '事態', '大変', '本気', '心配', '願う', '利く', '出す', '並々', '貰う', '急ぐ', '感情', '切る', '解放', '頂く', '影響', '場所', '臭い', '会う', '判断', '練習', '能力', '早い', '連中', '存在', '焼く', '付ける', '任せる', '掛かる', '分かる', '仕舞う', '下げる', '諦める', '大好き', '過ぎる', '助ける', '向かう', '迎える', '嬉しい', '終わり', '大丈夫', '生きる', '正しい', '止める', '弁える', '続ける', '止まる', '買い物', '気持ち', '近寄る', '持ち主', '下さる', '上がる', '楽しむ', '怯える', '褒める', '出来る', '手伝う', '纏める', '向ける', '下がる', '考える', '知れる', '遅れる', '上げる', '借りる', '悲しみ', '優しい', '飲み物', '煩わしい', '落ち着く', '大人しい', '生み出す', '聞こえる', '仕掛ける', '繰り返す', '片付ける', '話し合う', '取り込む', '間に合う', '忌まわしい', '切り替える', '恥ずかしい', '受け止める']\n",
      "UNNEEDED (SKIP): \t 7 ['匂う', '疲れ', '捕まる', '感ずる', '不味い', '現われる', '切り離す']\n",
      "\n"
     ]
    }
   ],
   "source": [
    "# FILE_NAME = \"other/hl-cleaned-imokano-1.txt\"\n",
    "# FILE_NAME = \"parsed/highlights-renaisoudan-3.txt\"\n",
    "FILE_NAME = \"parsed/subs-rezero-s3e2.txt\"\n",
    "easy, low = analyze_list(FILE_NAME)"
   ]
  },
  {
   "cell_type": "markdown",
   "metadata": {},
   "source": [
    "##### batch"
   ]
  },
  {
   "cell_type": "code",
   "execution_count": 153,
   "metadata": {},
   "outputs": [],
   "source": [
    "%%capture cap\n",
    "# cap.show() to see stdout\n",
    "\n",
    "# add `easy`, then `low`\n",
    "ivl=7\n",
    "# skip=False\n",
    "# false for easy, true for low\n",
    "# force schedule on (use skip as toggle instead)\n",
    "results = batch_add(\n",
    "    easy+low, \n",
    "    ivl=ivl, \n",
    "    skip_schedule=False, \n",
    "    force_schedule=False,\n",
    ")"
   ]
  },
  {
   "cell_type": "markdown",
   "metadata": {},
   "source": [
    "##### batch results\n",
    "\n",
    "142 -> 37min, 156 -> 32min, 128 -> 24min, 102 -> 23min\n",
    "\n",
    "Ideas to speed this up (parallelize):\n",
    "1) create the cards first if needed, then schedule \n",
    "2) have a queue for the card generation and EDIT the cards only (could add an option to skip generation entirely and just create front cards)\n",
    "3) print progress in batches for both the card creation queue and card generation queue"
   ]
  },
  {
   "cell_type": "code",
   "execution_count": 154,
   "metadata": {},
   "outputs": [
    {
     "name": "stdout",
     "output_type": "stream",
     "text": [
      "102\n"
     ]
    },
    {
     "data": {
      "text/plain": [
       "{0: ['癪',\n",
       "  '犬歯',\n",
       "  '反復',\n",
       "  '湯気',\n",
       "  '金魚',\n",
       "  '連結',\n",
       "  '沿道',\n",
       "  '皆無',\n",
       "  '険悪',\n",
       "  '誰彼',\n",
       "  '氷柱',\n",
       "  '合掌',\n",
       "  '配置',\n",
       "  '神楽',\n",
       "  '類型',\n",
       "  '贅肉',\n",
       "  '滞り',\n",
       "  '薄手',\n",
       "  '戦果',\n",
       "  '戯れ',\n",
       "  '下地',\n",
       "  '標語',\n",
       "  '抵触',\n",
       "  '露天',\n",
       "  '並木',\n",
       "  '近辺',\n",
       "  '点呼',\n",
       "  '裏目',\n",
       "  '足下',\n",
       "  '四隅',\n",
       "  '花柄',\n",
       "  '目蓋',\n",
       "  '凶報',\n",
       "  '語尾',\n",
       "  '快挙',\n",
       "  '眉間',\n",
       "  '凍死',\n",
       "  '言霊',\n",
       "  '私情',\n",
       "  '境内',\n",
       "  '海鮮',\n",
       "  'ヤワ',\n",
       "  '大小',\n",
       "  '安パイ',\n",
       "  '着直す',\n",
       "  '甲子園',\n",
       "  'パンク',\n",
       "  '平謝り',\n",
       "  '持久力',\n",
       "  '補助輪',\n",
       "  'ぽつり',\n",
       "  'オセロ',\n",
       "  '連ねる',\n",
       "  'ちろり',\n",
       "  '耳年増',\n",
       "  '一押し',\n",
       "  '有識者',\n",
       "  '滑走路',\n",
       "  'つむる',\n",
       "  'すっと',\n",
       "  'お通夜',\n",
       "  '冷や水',\n",
       "  'ゆさゆさ',\n",
       "  'がやがや',\n",
       "  'ハイエナ',\n",
       "  '相まって',\n",
       "  'くまなく',\n",
       "  'ちまちま',\n",
       "  'ぷるぷる',\n",
       "  'ごそごそ',\n",
       "  'サバサバ',\n",
       "  '福神漬け',\n",
       "  'モリモリ',\n",
       "  '独占禁止法',\n",
       "  'ノースリーブ',\n",
       "  'ごにょごにょ',\n",
       "  'レジャーシート',\n",
       "  '鳩',\n",
       "  '茜色'],\n",
       " -3: ['円札'],\n",
       " -2: ['弁女',\n",
       "  '素っ気',\n",
       "  '細さも',\n",
       "  '敷いて',\n",
       "  'ノロケ',\n",
       "  'べしべし',\n",
       "  'そむけた',\n",
       "  '鼻白んだ',\n",
       "  'アリアリ',\n",
       "  '名残惜し',\n",
       "  '窘められた',\n",
       "  'メモを手に',\n",
       "  'しょげている',\n",
       "  'ぷにぷにだね',\n",
       "  '穿いて'],\n",
       " -1: ['帳尻', '姿見', '御の字', 'お役御免', '余所行き', 'クレーマー', '回りくどい']}"
      ]
     },
     "execution_count": 154,
     "metadata": {},
     "output_type": "execute_result"
    }
   ],
   "source": [
    "results\n",
    "len(results)\n",
    "# results_sorted = {y: x for x, y in results.items()}\n",
    "inv_map = {}\n",
    "for k, v in results.items():\n",
    "    inv_map[v] = inv_map.get(v, []) + [k]\n",
    "\n",
    "total = 0\n",
    "for k, values in inv_map.items():\n",
    "    total += len(values)\n",
    "print(total)\n",
    "\n",
    "inv_map"
   ]
  },
  {
   "cell_type": "code",
   "execution_count": 155,
   "metadata": {},
   "outputs": [
    {
     "data": {
      "text/plain": [
       "Ellipsis"
      ]
     },
     "execution_count": 155,
     "metadata": {},
     "output_type": "execute_result"
    }
   ],
   "source": [
    "..."
   ]
  },
  {
   "cell_type": "markdown",
   "metadata": {},
   "source": []
  }
 ],
 "metadata": {
  "kernelspec": {
   "display_name": "Python 3",
   "language": "python",
   "name": "python3"
  },
  "language_info": {
   "codemirror_mode": {
    "name": "ipython",
    "version": 3
   },
   "file_extension": ".py",
   "mimetype": "text/x-python",
   "name": "python",
   "nbconvert_exporter": "python",
   "pygments_lexer": "ipython3",
   "version": "3.8.10"
  },
  "orig_nbformat": 4
 },
 "nbformat": 4,
 "nbformat_minor": 2
}
